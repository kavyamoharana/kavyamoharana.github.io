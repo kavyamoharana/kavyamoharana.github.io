{
 "cells": [
  {
   "cell_type": "code",
   "execution_count": 1,
   "id": "19d023c8",
   "metadata": {},
   "outputs": [],
   "source": [
    "import pandas as pd\n",
    "import numpy as np\n",
    "import matplotlib.pyplot as plt\n",
    "from sklearn import linear_model, model_selection, tree, pipeline, preprocessing, metrics, cluster\n",
    "from sklearn.cluster import KMeans\n",
    "from sklearn.model_selection import train_test_split\n",
    "from sklearn.linear_model import LinearRegression\n",
    "from sklearn.metrics import r2_score\n",
    "from sklearn.metrics import mean_squared_error\n",
    "from sklearn.preprocessing import StandardScaler\n",
    "from sklearn.metrics import silhouette_score"
   ]
  },
  {
   "cell_type": "code",
   "execution_count": 2,
   "id": "c63a5eb9",
   "metadata": {},
   "outputs": [],
   "source": [
    "import altair as alt"
   ]
  },
  {
   "cell_type": "markdown",
   "id": "f95c290b",
   "metadata": {},
   "source": [
    "### Data Cleaning and Preprocessing"
   ]
  },
  {
   "cell_type": "code",
   "execution_count": 3,
   "id": "97bcfa58",
   "metadata": {},
   "outputs": [
    {
     "ename": "FileNotFoundError",
     "evalue": "[Errno 2] No such file or directory: 'GlobalLandTemperaturesByCountry.csv'",
     "output_type": "error",
     "traceback": [
      "\u001b[0;31m---------------------------------------------------------------------------\u001b[0m",
      "\u001b[0;31mFileNotFoundError\u001b[0m                         Traceback (most recent call last)",
      "Input \u001b[0;32mIn [3]\u001b[0m, in \u001b[0;36m<cell line: 1>\u001b[0;34m()\u001b[0m\n\u001b[0;32m----> 1\u001b[0m df_country \u001b[38;5;241m=\u001b[39m \u001b[43mpd\u001b[49m\u001b[38;5;241;43m.\u001b[39;49m\u001b[43mread_csv\u001b[49m\u001b[43m(\u001b[49m\u001b[38;5;124;43m'\u001b[39;49m\u001b[38;5;124;43mGlobalLandTemperaturesByCountry.csv\u001b[39;49m\u001b[38;5;124;43m'\u001b[39;49m\u001b[43m)\u001b[49m\n\u001b[1;32m      2\u001b[0m \u001b[38;5;28mprint\u001b[39m(df_country\u001b[38;5;241m.\u001b[39mhead(\u001b[38;5;241m10\u001b[39m))\n\u001b[1;32m      3\u001b[0m df_country\u001b[38;5;241m.\u001b[39mdtypes\n",
      "File \u001b[0;32m~/miniconda3/envs/is327/lib/python3.10/site-packages/pandas/util/_decorators.py:211\u001b[0m, in \u001b[0;36mdeprecate_kwarg.<locals>._deprecate_kwarg.<locals>.wrapper\u001b[0;34m(*args, **kwargs)\u001b[0m\n\u001b[1;32m    209\u001b[0m     \u001b[38;5;28;01melse\u001b[39;00m:\n\u001b[1;32m    210\u001b[0m         kwargs[new_arg_name] \u001b[38;5;241m=\u001b[39m new_arg_value\n\u001b[0;32m--> 211\u001b[0m \u001b[38;5;28;01mreturn\u001b[39;00m \u001b[43mfunc\u001b[49m\u001b[43m(\u001b[49m\u001b[38;5;241;43m*\u001b[39;49m\u001b[43margs\u001b[49m\u001b[43m,\u001b[49m\u001b[43m \u001b[49m\u001b[38;5;241;43m*\u001b[39;49m\u001b[38;5;241;43m*\u001b[39;49m\u001b[43mkwargs\u001b[49m\u001b[43m)\u001b[49m\n",
      "File \u001b[0;32m~/miniconda3/envs/is327/lib/python3.10/site-packages/pandas/util/_decorators.py:331\u001b[0m, in \u001b[0;36mdeprecate_nonkeyword_arguments.<locals>.decorate.<locals>.wrapper\u001b[0;34m(*args, **kwargs)\u001b[0m\n\u001b[1;32m    325\u001b[0m \u001b[38;5;28;01mif\u001b[39;00m \u001b[38;5;28mlen\u001b[39m(args) \u001b[38;5;241m>\u001b[39m num_allow_args:\n\u001b[1;32m    326\u001b[0m     warnings\u001b[38;5;241m.\u001b[39mwarn(\n\u001b[1;32m    327\u001b[0m         msg\u001b[38;5;241m.\u001b[39mformat(arguments\u001b[38;5;241m=\u001b[39m_format_argument_list(allow_args)),\n\u001b[1;32m    328\u001b[0m         \u001b[38;5;167;01mFutureWarning\u001b[39;00m,\n\u001b[1;32m    329\u001b[0m         stacklevel\u001b[38;5;241m=\u001b[39mfind_stack_level(),\n\u001b[1;32m    330\u001b[0m     )\n\u001b[0;32m--> 331\u001b[0m \u001b[38;5;28;01mreturn\u001b[39;00m \u001b[43mfunc\u001b[49m\u001b[43m(\u001b[49m\u001b[38;5;241;43m*\u001b[39;49m\u001b[43margs\u001b[49m\u001b[43m,\u001b[49m\u001b[43m \u001b[49m\u001b[38;5;241;43m*\u001b[39;49m\u001b[38;5;241;43m*\u001b[39;49m\u001b[43mkwargs\u001b[49m\u001b[43m)\u001b[49m\n",
      "File \u001b[0;32m~/miniconda3/envs/is327/lib/python3.10/site-packages/pandas/io/parsers/readers.py:950\u001b[0m, in \u001b[0;36mread_csv\u001b[0;34m(filepath_or_buffer, sep, delimiter, header, names, index_col, usecols, squeeze, prefix, mangle_dupe_cols, dtype, engine, converters, true_values, false_values, skipinitialspace, skiprows, skipfooter, nrows, na_values, keep_default_na, na_filter, verbose, skip_blank_lines, parse_dates, infer_datetime_format, keep_date_col, date_parser, dayfirst, cache_dates, iterator, chunksize, compression, thousands, decimal, lineterminator, quotechar, quoting, doublequote, escapechar, comment, encoding, encoding_errors, dialect, error_bad_lines, warn_bad_lines, on_bad_lines, delim_whitespace, low_memory, memory_map, float_precision, storage_options)\u001b[0m\n\u001b[1;32m    935\u001b[0m kwds_defaults \u001b[38;5;241m=\u001b[39m _refine_defaults_read(\n\u001b[1;32m    936\u001b[0m     dialect,\n\u001b[1;32m    937\u001b[0m     delimiter,\n\u001b[0;32m   (...)\u001b[0m\n\u001b[1;32m    946\u001b[0m     defaults\u001b[38;5;241m=\u001b[39m{\u001b[38;5;124m\"\u001b[39m\u001b[38;5;124mdelimiter\u001b[39m\u001b[38;5;124m\"\u001b[39m: \u001b[38;5;124m\"\u001b[39m\u001b[38;5;124m,\u001b[39m\u001b[38;5;124m\"\u001b[39m},\n\u001b[1;32m    947\u001b[0m )\n\u001b[1;32m    948\u001b[0m kwds\u001b[38;5;241m.\u001b[39mupdate(kwds_defaults)\n\u001b[0;32m--> 950\u001b[0m \u001b[38;5;28;01mreturn\u001b[39;00m \u001b[43m_read\u001b[49m\u001b[43m(\u001b[49m\u001b[43mfilepath_or_buffer\u001b[49m\u001b[43m,\u001b[49m\u001b[43m \u001b[49m\u001b[43mkwds\u001b[49m\u001b[43m)\u001b[49m\n",
      "File \u001b[0;32m~/miniconda3/envs/is327/lib/python3.10/site-packages/pandas/io/parsers/readers.py:605\u001b[0m, in \u001b[0;36m_read\u001b[0;34m(filepath_or_buffer, kwds)\u001b[0m\n\u001b[1;32m    602\u001b[0m _validate_names(kwds\u001b[38;5;241m.\u001b[39mget(\u001b[38;5;124m\"\u001b[39m\u001b[38;5;124mnames\u001b[39m\u001b[38;5;124m\"\u001b[39m, \u001b[38;5;28;01mNone\u001b[39;00m))\n\u001b[1;32m    604\u001b[0m \u001b[38;5;66;03m# Create the parser.\u001b[39;00m\n\u001b[0;32m--> 605\u001b[0m parser \u001b[38;5;241m=\u001b[39m \u001b[43mTextFileReader\u001b[49m\u001b[43m(\u001b[49m\u001b[43mfilepath_or_buffer\u001b[49m\u001b[43m,\u001b[49m\u001b[43m \u001b[49m\u001b[38;5;241;43m*\u001b[39;49m\u001b[38;5;241;43m*\u001b[39;49m\u001b[43mkwds\u001b[49m\u001b[43m)\u001b[49m\n\u001b[1;32m    607\u001b[0m \u001b[38;5;28;01mif\u001b[39;00m chunksize \u001b[38;5;129;01mor\u001b[39;00m iterator:\n\u001b[1;32m    608\u001b[0m     \u001b[38;5;28;01mreturn\u001b[39;00m parser\n",
      "File \u001b[0;32m~/miniconda3/envs/is327/lib/python3.10/site-packages/pandas/io/parsers/readers.py:1442\u001b[0m, in \u001b[0;36mTextFileReader.__init__\u001b[0;34m(self, f, engine, **kwds)\u001b[0m\n\u001b[1;32m   1439\u001b[0m     \u001b[38;5;28mself\u001b[39m\u001b[38;5;241m.\u001b[39moptions[\u001b[38;5;124m\"\u001b[39m\u001b[38;5;124mhas_index_names\u001b[39m\u001b[38;5;124m\"\u001b[39m] \u001b[38;5;241m=\u001b[39m kwds[\u001b[38;5;124m\"\u001b[39m\u001b[38;5;124mhas_index_names\u001b[39m\u001b[38;5;124m\"\u001b[39m]\n\u001b[1;32m   1441\u001b[0m \u001b[38;5;28mself\u001b[39m\u001b[38;5;241m.\u001b[39mhandles: IOHandles \u001b[38;5;241m|\u001b[39m \u001b[38;5;28;01mNone\u001b[39;00m \u001b[38;5;241m=\u001b[39m \u001b[38;5;28;01mNone\u001b[39;00m\n\u001b[0;32m-> 1442\u001b[0m \u001b[38;5;28mself\u001b[39m\u001b[38;5;241m.\u001b[39m_engine \u001b[38;5;241m=\u001b[39m \u001b[38;5;28;43mself\u001b[39;49m\u001b[38;5;241;43m.\u001b[39;49m\u001b[43m_make_engine\u001b[49m\u001b[43m(\u001b[49m\u001b[43mf\u001b[49m\u001b[43m,\u001b[49m\u001b[43m \u001b[49m\u001b[38;5;28;43mself\u001b[39;49m\u001b[38;5;241;43m.\u001b[39;49m\u001b[43mengine\u001b[49m\u001b[43m)\u001b[49m\n",
      "File \u001b[0;32m~/miniconda3/envs/is327/lib/python3.10/site-packages/pandas/io/parsers/readers.py:1735\u001b[0m, in \u001b[0;36mTextFileReader._make_engine\u001b[0;34m(self, f, engine)\u001b[0m\n\u001b[1;32m   1733\u001b[0m     \u001b[38;5;28;01mif\u001b[39;00m \u001b[38;5;124m\"\u001b[39m\u001b[38;5;124mb\u001b[39m\u001b[38;5;124m\"\u001b[39m \u001b[38;5;129;01mnot\u001b[39;00m \u001b[38;5;129;01min\u001b[39;00m mode:\n\u001b[1;32m   1734\u001b[0m         mode \u001b[38;5;241m+\u001b[39m\u001b[38;5;241m=\u001b[39m \u001b[38;5;124m\"\u001b[39m\u001b[38;5;124mb\u001b[39m\u001b[38;5;124m\"\u001b[39m\n\u001b[0;32m-> 1735\u001b[0m \u001b[38;5;28mself\u001b[39m\u001b[38;5;241m.\u001b[39mhandles \u001b[38;5;241m=\u001b[39m \u001b[43mget_handle\u001b[49m\u001b[43m(\u001b[49m\n\u001b[1;32m   1736\u001b[0m \u001b[43m    \u001b[49m\u001b[43mf\u001b[49m\u001b[43m,\u001b[49m\n\u001b[1;32m   1737\u001b[0m \u001b[43m    \u001b[49m\u001b[43mmode\u001b[49m\u001b[43m,\u001b[49m\n\u001b[1;32m   1738\u001b[0m \u001b[43m    \u001b[49m\u001b[43mencoding\u001b[49m\u001b[38;5;241;43m=\u001b[39;49m\u001b[38;5;28;43mself\u001b[39;49m\u001b[38;5;241;43m.\u001b[39;49m\u001b[43moptions\u001b[49m\u001b[38;5;241;43m.\u001b[39;49m\u001b[43mget\u001b[49m\u001b[43m(\u001b[49m\u001b[38;5;124;43m\"\u001b[39;49m\u001b[38;5;124;43mencoding\u001b[39;49m\u001b[38;5;124;43m\"\u001b[39;49m\u001b[43m,\u001b[49m\u001b[43m \u001b[49m\u001b[38;5;28;43;01mNone\u001b[39;49;00m\u001b[43m)\u001b[49m\u001b[43m,\u001b[49m\n\u001b[1;32m   1739\u001b[0m \u001b[43m    \u001b[49m\u001b[43mcompression\u001b[49m\u001b[38;5;241;43m=\u001b[39;49m\u001b[38;5;28;43mself\u001b[39;49m\u001b[38;5;241;43m.\u001b[39;49m\u001b[43moptions\u001b[49m\u001b[38;5;241;43m.\u001b[39;49m\u001b[43mget\u001b[49m\u001b[43m(\u001b[49m\u001b[38;5;124;43m\"\u001b[39;49m\u001b[38;5;124;43mcompression\u001b[39;49m\u001b[38;5;124;43m\"\u001b[39;49m\u001b[43m,\u001b[49m\u001b[43m \u001b[49m\u001b[38;5;28;43;01mNone\u001b[39;49;00m\u001b[43m)\u001b[49m\u001b[43m,\u001b[49m\n\u001b[1;32m   1740\u001b[0m \u001b[43m    \u001b[49m\u001b[43mmemory_map\u001b[49m\u001b[38;5;241;43m=\u001b[39;49m\u001b[38;5;28;43mself\u001b[39;49m\u001b[38;5;241;43m.\u001b[39;49m\u001b[43moptions\u001b[49m\u001b[38;5;241;43m.\u001b[39;49m\u001b[43mget\u001b[49m\u001b[43m(\u001b[49m\u001b[38;5;124;43m\"\u001b[39;49m\u001b[38;5;124;43mmemory_map\u001b[39;49m\u001b[38;5;124;43m\"\u001b[39;49m\u001b[43m,\u001b[49m\u001b[43m \u001b[49m\u001b[38;5;28;43;01mFalse\u001b[39;49;00m\u001b[43m)\u001b[49m\u001b[43m,\u001b[49m\n\u001b[1;32m   1741\u001b[0m \u001b[43m    \u001b[49m\u001b[43mis_text\u001b[49m\u001b[38;5;241;43m=\u001b[39;49m\u001b[43mis_text\u001b[49m\u001b[43m,\u001b[49m\n\u001b[1;32m   1742\u001b[0m \u001b[43m    \u001b[49m\u001b[43merrors\u001b[49m\u001b[38;5;241;43m=\u001b[39;49m\u001b[38;5;28;43mself\u001b[39;49m\u001b[38;5;241;43m.\u001b[39;49m\u001b[43moptions\u001b[49m\u001b[38;5;241;43m.\u001b[39;49m\u001b[43mget\u001b[49m\u001b[43m(\u001b[49m\u001b[38;5;124;43m\"\u001b[39;49m\u001b[38;5;124;43mencoding_errors\u001b[39;49m\u001b[38;5;124;43m\"\u001b[39;49m\u001b[43m,\u001b[49m\u001b[43m \u001b[49m\u001b[38;5;124;43m\"\u001b[39;49m\u001b[38;5;124;43mstrict\u001b[39;49m\u001b[38;5;124;43m\"\u001b[39;49m\u001b[43m)\u001b[49m\u001b[43m,\u001b[49m\n\u001b[1;32m   1743\u001b[0m \u001b[43m    \u001b[49m\u001b[43mstorage_options\u001b[49m\u001b[38;5;241;43m=\u001b[39;49m\u001b[38;5;28;43mself\u001b[39;49m\u001b[38;5;241;43m.\u001b[39;49m\u001b[43moptions\u001b[49m\u001b[38;5;241;43m.\u001b[39;49m\u001b[43mget\u001b[49m\u001b[43m(\u001b[49m\u001b[38;5;124;43m\"\u001b[39;49m\u001b[38;5;124;43mstorage_options\u001b[39;49m\u001b[38;5;124;43m\"\u001b[39;49m\u001b[43m,\u001b[49m\u001b[43m \u001b[49m\u001b[38;5;28;43;01mNone\u001b[39;49;00m\u001b[43m)\u001b[49m\u001b[43m,\u001b[49m\n\u001b[1;32m   1744\u001b[0m \u001b[43m\u001b[49m\u001b[43m)\u001b[49m\n\u001b[1;32m   1745\u001b[0m \u001b[38;5;28;01massert\u001b[39;00m \u001b[38;5;28mself\u001b[39m\u001b[38;5;241m.\u001b[39mhandles \u001b[38;5;129;01mis\u001b[39;00m \u001b[38;5;129;01mnot\u001b[39;00m \u001b[38;5;28;01mNone\u001b[39;00m\n\u001b[1;32m   1746\u001b[0m f \u001b[38;5;241m=\u001b[39m \u001b[38;5;28mself\u001b[39m\u001b[38;5;241m.\u001b[39mhandles\u001b[38;5;241m.\u001b[39mhandle\n",
      "File \u001b[0;32m~/miniconda3/envs/is327/lib/python3.10/site-packages/pandas/io/common.py:856\u001b[0m, in \u001b[0;36mget_handle\u001b[0;34m(path_or_buf, mode, encoding, compression, memory_map, is_text, errors, storage_options)\u001b[0m\n\u001b[1;32m    851\u001b[0m \u001b[38;5;28;01melif\u001b[39;00m \u001b[38;5;28misinstance\u001b[39m(handle, \u001b[38;5;28mstr\u001b[39m):\n\u001b[1;32m    852\u001b[0m     \u001b[38;5;66;03m# Check whether the filename is to be opened in binary mode.\u001b[39;00m\n\u001b[1;32m    853\u001b[0m     \u001b[38;5;66;03m# Binary mode does not support 'encoding' and 'newline'.\u001b[39;00m\n\u001b[1;32m    854\u001b[0m     \u001b[38;5;28;01mif\u001b[39;00m ioargs\u001b[38;5;241m.\u001b[39mencoding \u001b[38;5;129;01mand\u001b[39;00m \u001b[38;5;124m\"\u001b[39m\u001b[38;5;124mb\u001b[39m\u001b[38;5;124m\"\u001b[39m \u001b[38;5;129;01mnot\u001b[39;00m \u001b[38;5;129;01min\u001b[39;00m ioargs\u001b[38;5;241m.\u001b[39mmode:\n\u001b[1;32m    855\u001b[0m         \u001b[38;5;66;03m# Encoding\u001b[39;00m\n\u001b[0;32m--> 856\u001b[0m         handle \u001b[38;5;241m=\u001b[39m \u001b[38;5;28;43mopen\u001b[39;49m\u001b[43m(\u001b[49m\n\u001b[1;32m    857\u001b[0m \u001b[43m            \u001b[49m\u001b[43mhandle\u001b[49m\u001b[43m,\u001b[49m\n\u001b[1;32m    858\u001b[0m \u001b[43m            \u001b[49m\u001b[43mioargs\u001b[49m\u001b[38;5;241;43m.\u001b[39;49m\u001b[43mmode\u001b[49m\u001b[43m,\u001b[49m\n\u001b[1;32m    859\u001b[0m \u001b[43m            \u001b[49m\u001b[43mencoding\u001b[49m\u001b[38;5;241;43m=\u001b[39;49m\u001b[43mioargs\u001b[49m\u001b[38;5;241;43m.\u001b[39;49m\u001b[43mencoding\u001b[49m\u001b[43m,\u001b[49m\n\u001b[1;32m    860\u001b[0m \u001b[43m            \u001b[49m\u001b[43merrors\u001b[49m\u001b[38;5;241;43m=\u001b[39;49m\u001b[43merrors\u001b[49m\u001b[43m,\u001b[49m\n\u001b[1;32m    861\u001b[0m \u001b[43m            \u001b[49m\u001b[43mnewline\u001b[49m\u001b[38;5;241;43m=\u001b[39;49m\u001b[38;5;124;43m\"\u001b[39;49m\u001b[38;5;124;43m\"\u001b[39;49m\u001b[43m,\u001b[49m\n\u001b[1;32m    862\u001b[0m \u001b[43m        \u001b[49m\u001b[43m)\u001b[49m\n\u001b[1;32m    863\u001b[0m     \u001b[38;5;28;01melse\u001b[39;00m:\n\u001b[1;32m    864\u001b[0m         \u001b[38;5;66;03m# Binary mode\u001b[39;00m\n\u001b[1;32m    865\u001b[0m         handle \u001b[38;5;241m=\u001b[39m \u001b[38;5;28mopen\u001b[39m(handle, ioargs\u001b[38;5;241m.\u001b[39mmode)\n",
      "\u001b[0;31mFileNotFoundError\u001b[0m: [Errno 2] No such file or directory: 'GlobalLandTemperaturesByCountry.csv'"
     ]
    }
   ],
   "source": [
    "df_country = pd.read_csv('GlobalLandTemperaturesByCountry.csv')\n",
    "print(df_country.head(10))\n",
    "df_country.dtypes"
   ]
  },
  {
   "cell_type": "code",
   "execution_count": null,
   "id": "4655d3e3",
   "metadata": {},
   "outputs": [],
   "source": [
    "columns_with_na = df_country.columns[df_country.isna().any()].tolist()\n",
    "columns_with_na"
   ]
  },
  {
   "cell_type": "code",
   "execution_count": null,
   "id": "d4b9e738",
   "metadata": {},
   "outputs": [],
   "source": [
    "df_country.dropna(subset=['AverageTemperature', 'AverageTemperatureUncertainty'], inplace=True)\n",
    "df_country"
   ]
  },
  {
   "cell_type": "code",
   "execution_count": null,
   "id": "256f2365",
   "metadata": {},
   "outputs": [],
   "source": [
    "df_country['dt'] = pd.to_datetime(df_country['dt'],errors='coerce',format='%Y/%m/%d')\n",
    "df_country['Year'] = df_country['dt'].dt.year\n",
    "df_country['Month'] = df_country['dt'].dt.month\n",
    "df_country.rename(columns={'dt': 'Date'}, inplace=True)\n",
    "df_country"
   ]
  },
  {
   "cell_type": "code",
   "execution_count": null,
   "id": "40a7064d",
   "metadata": {},
   "outputs": [],
   "source": [
    "df_cities = pd.read_csv('GlobalLandTemperaturesByMajorCity.csv')\n",
    "df_cities"
   ]
  },
  {
   "cell_type": "code",
   "execution_count": null,
   "id": "23380136",
   "metadata": {},
   "outputs": [],
   "source": [
    "df_cities.dropna(subset=['AverageTemperature', 'AverageTemperatureUncertainty'], inplace=True)\n",
    "df_cities"
   ]
  },
  {
   "cell_type": "code",
   "execution_count": null,
   "id": "54acd0a2",
   "metadata": {},
   "outputs": [],
   "source": [
    "df_cities['dt'] = pd.to_datetime(df_cities['dt'],errors='coerce',format='%Y/%m/%d')\n",
    "df_cities['Year'] = df_cities['dt'].dt.year\n",
    "df_cities['Month'] = df_cities['dt'].dt.month\n",
    "df_cities.rename(columns={'dt': 'Date'}, inplace=True)\n",
    "df_cities"
   ]
  },
  {
   "cell_type": "code",
   "execution_count": null,
   "id": "859b3601",
   "metadata": {},
   "outputs": [],
   "source": [
    "df_global = pd.read_csv('GlobalTemperatures.csv')\n",
    "df_global"
   ]
  },
  {
   "cell_type": "code",
   "execution_count": null,
   "id": "f9d708c1",
   "metadata": {},
   "outputs": [],
   "source": [
    "df_global.dropna(\n",
    "    subset=['LandAverageTemperature',\n",
    "     'LandAverageTemperatureUncertainty',\n",
    "     'LandMaxTemperature',\n",
    "     'LandMaxTemperatureUncertainty',\n",
    "     'LandMinTemperature',\n",
    "     'LandMinTemperatureUncertainty',\n",
    "     'LandAndOceanAverageTemperature',\n",
    "     'LandAndOceanAverageTemperatureUncertainty'],\n",
    "    inplace=True)"
   ]
  },
  {
   "cell_type": "code",
   "execution_count": null,
   "id": "4eff0911",
   "metadata": {},
   "outputs": [],
   "source": [
    "df_global['dt'] = pd.to_datetime(df_global['dt'],errors='coerce',format='%Y/%m/%d')\n",
    "df_global['Year'] = df_global['dt'].dt.year\n",
    "df_global['Month'] = df_global['dt'].dt.month\n",
    "df_global.rename(columns={'dt': 'Date'}, inplace=True)"
   ]
  },
  {
   "cell_type": "code",
   "execution_count": null,
   "id": "f20af18f",
   "metadata": {},
   "outputs": [],
   "source": [
    "df_global"
   ]
  },
  {
   "cell_type": "code",
   "execution_count": null,
   "id": "27211e90",
   "metadata": {},
   "outputs": [],
   "source": [
    "df_global.describe()"
   ]
  },
  {
   "cell_type": "code",
   "execution_count": null,
   "id": "5b5b02aa",
   "metadata": {},
   "outputs": [],
   "source": [
    "df_summers = df_global[(df_global['Year'] >= 1800) & ((df_global['Month'] == 6) | (df_global['Month'] == 7) | (df_global['Month'] == 8)) ]\n",
    "df_summers"
   ]
  },
  {
   "cell_type": "code",
   "execution_count": null,
   "id": "2a980251",
   "metadata": {},
   "outputs": [],
   "source": [
    "# Reshape the feature array\n",
    "X = df_summers[['Year']]\n",
    "X = X.values.reshape(-1, 1)  # Reshape to a 2D array\n",
    "\n",
    "y = df_summers['LandAverageTemperature']\n",
    "y = y.values  \n",
    "\n",
    "# Splitting data into training and testing sets\n",
    "X_train, X_test, y_train, y_test = train_test_split(X, y, test_size=0.2, random_state=42)\n",
    "\n",
    "# training the linear regression model\n",
    "model = LinearRegression()\n",
    "model.fit(X_train, y_train)\n",
    "\n",
    "# predictions on the test set\n",
    "y_pred = model.predict(X_test)\n",
    "\n",
    "# Plotting the results\n",
    "plt.figure(figsize=(8, 6))\n",
    "plt.scatter(X_test, y_test, color='seagreen', label='Actual Temperatures')\n",
    "plt.plot(X_test, y_pred, color='mediumblue', linewidth=3, label='Linear Regression')\n",
    "plt.xlabel('Year')\n",
    "plt.ylabel('Land Average Temperature in Summer')\n",
    "plt.xticks(range(1850, 2015, 20))\n",
    "plt.title('Linear Regression for Summer Global Surface Temperatures')\n",
    "plt.legend()\n",
    "plt.show()\n",
    "\n",
    "r_squared = r2_score(y_test, y_pred)\n",
    "print(f'R-squared: {r_squared}')\n",
    "\n",
    "mse = mean_squared_error(y_test, y_pred)\n",
    "print(f'Mean Squared Error (MSE): {mse}')\n",
    "\n",
    "rmse = np.sqrt(mse)\n",
    "print(f'Root Mean Squared Error (RMSE): {rmse}')"
   ]
  },
  {
   "cell_type": "code",
   "execution_count": null,
   "id": "b56598aa",
   "metadata": {},
   "outputs": [],
   "source": [
    "# Create Altair chart\n",
    "chart = alt.Chart(df_summers).mark_circle(color='seagreen').encode(\n",
    "    x=alt.X('Year:Q', title='Year', scale=alt.Scale(domain=[1850, 2010]), axis=alt.Axis(format='d')),\n",
    "    y=alt.Y('LandAverageTemperature:Q', title='Land Average Temperature in Summer', \n",
    "            scale=alt.Scale(domain=[13, 15])),\n",
    "    tooltip=['Year', 'LandAverageTemperature']\n",
    ")\n",
    "\n",
    "# Add linear regression line\n",
    "reg_line = alt.Chart(df_summers).mark_line(color='mediumblue').transform_regression(\n",
    "    'Year', 'LandAverageTemperature'\n",
    ").encode(\n",
    "    x=alt.X('Year:Q', scale=alt.Scale(domain=[1850, 2010])),\n",
    "    y=alt.Y('LandAverageTemperature:Q', scale=alt.Scale(domain=[13, 15]))\n",
    ")\n",
    "\n",
    "# Combine chart and regression line\n",
    "chart1 = chart + reg_line\n",
    "\n",
    "# Display the chart\n",
    "chart1.properties(\n",
    "    title='Linear Regression for Summer Global Surface Temperatures',\n",
    "    width=600,\n",
    "    height=400\n",
    ").interactive()"
   ]
  },
  {
   "cell_type": "code",
   "execution_count": null,
   "id": "7a519eda",
   "metadata": {},
   "outputs": [],
   "source": [
    "df_usa3 = df_country[(df_country['Country'] == 'United States') & \n",
    "                     (df_country['Year'] >= 1850) & ((df_country['Month'] == 6) | (df_country['Month'] == 7) | (df_country['Month'] == 8))]\n",
    "df_usa3"
   ]
  },
  {
   "cell_type": "code",
   "execution_count": null,
   "id": "302270df",
   "metadata": {},
   "outputs": [],
   "source": [
    "df_cities2 = pd.read_csv('GlobalLandTemperaturesByMajorCity.csv')\n",
    "df_cities2.dropna(subset=['AverageTemperature', 'AverageTemperatureUncertainty'], inplace=True)\n",
    "df_cities2['dt'] = pd.to_datetime(df_cities2['dt'],errors='coerce',format='%Y/%m/%d')\n",
    "df_cities2['Year'] = df_cities2['dt'].dt.year\n",
    "df_cities2['Month'] = df_cities2['dt'].dt.month\n",
    "df_cities2.rename(columns={'dt': 'Date'}, inplace=True)"
   ]
  },
  {
   "cell_type": "code",
   "execution_count": null,
   "id": "949e10ad",
   "metadata": {},
   "outputs": [],
   "source": [
    "df_USA2 = df_cities2[(df_cities2['Country'] == 'United States') & (df_cities2['Year'] >= 1850) & ((df_cities2['Month'] == 6) | (df_cities2['Month'] == 7) | (df_cities2['Month'] == 8))]\n",
    "df_USA2\n",
    "# df_summers2 = df_cities[(df_cities['Year'] >= 1800) & ((df_cities['Month'] == 6) | (df_cities['Month'] == 7) | (df_cities['Month'] == 8)) ]\n",
    "# df_summers2"
   ]
  },
  {
   "cell_type": "code",
   "execution_count": null,
   "id": "3ba2ec3c",
   "metadata": {},
   "outputs": [],
   "source": [
    "df_ny = df_cities2[(df_cities2['City'] == 'New York') & (df_cities2['Year'] >= 1913) & ((df_cities2['Month'] == 6) | (df_cities2['Month'] == 7) | (df_cities2['Month'] == 8))]\n",
    "df_ny"
   ]
  },
  {
   "cell_type": "code",
   "execution_count": null,
   "id": "e1ab68c3",
   "metadata": {},
   "outputs": [],
   "source": [
    "X = df_usa3[['Year']]\n",
    "X = X.values.reshape(-1, 1)  # Reshape to a 2D array\n",
    "\n",
    "y = df_usa3['AverageTemperature']\n",
    "y = y.values  # No need to reshape the target variable\n",
    "\n",
    "# Split the data into training and testing sets\n",
    "X_train, X_test, y_train, y_test = train_test_split(X, y, test_size=0.2, random_state=42)\n",
    "\n",
    "# Create and train the linear regression model\n",
    "model = LinearRegression()\n",
    "model.fit(X_train, y_train)\n",
    "\n",
    "# Make predictions on the test set\n",
    "y_pred = model.predict(X_test)\n",
    "\n",
    "# Plot the results\n",
    "plt.figure(figsize=(8, 6))\n",
    "plt.scatter(X_test, y_test, color='seagreen', label='Actual Temperatures')\n",
    "plt.plot(X_test, y_pred, color='mediumblue', linewidth=3, label='Linear Regression')\n",
    "plt.xlabel('Year')\n",
    "plt.ylabel('Land Average Temperature in Summer')\n",
    "plt.xticks(range(1850, 2015, 20))\n",
    "plt.title('Linear Regression for Summer Temperatures in Major US Cities')\n",
    "plt.legend()\n",
    "plt.show()\n",
    "\n",
    "r_squared = r2_score(y_test, y_pred)\n",
    "print(f'R-squared: {r_squared}')\n",
    "\n",
    "mse = mean_squared_error(y_test, y_pred)\n",
    "print(f'Mean Squared Error (MSE): {mse}')\n",
    "\n",
    "rmse = np.sqrt(mse)\n",
    "print(f'Root Mean Squared Error (RMSE): {rmse}')"
   ]
  },
  {
   "cell_type": "code",
   "execution_count": null,
   "id": "8581ff5f",
   "metadata": {},
   "outputs": [],
   "source": [
    "# Create Altair chart\n",
    "chart = alt.Chart(df_usa3).mark_circle(color='indianred').encode(\n",
    "    x=alt.X('Year:Q', title='Year', scale=alt.Scale(domain=[1850, 2010]), axis=alt.Axis(format='d')),\n",
    "    y=alt.Y('AverageTemperature:Q', title='Land Average Temperature in Summer', \n",
    "            scale=alt.Scale(domain=[17, 23])),\n",
    "    tooltip=['Year', 'AverageTemperature']\n",
    ")\n",
    "\n",
    "# Add linear regression line\n",
    "reg_line = alt.Chart(df_usa3).mark_line(color='mediumblue').transform_regression(\n",
    "    'Year', 'AverageTemperature'\n",
    ").encode(\n",
    "    x=alt.X('Year:Q', scale=alt.Scale(domain=[1850, 2010])),\n",
    "    y=alt.Y('AverageTemperature:Q', scale=alt.Scale(domain=[17, 23]))\n",
    ")\n",
    "\n",
    "# Combine chart and regression line\n",
    "chart2 = chart + reg_line\n",
    "\n",
    "# Display the chart\n",
    "chart2.properties(\n",
    "    title='Linear Regression for Summer Temperatures in Major US Cities',\n",
    "    width=600,\n",
    "    height=400\n",
    ").interactive()"
   ]
  },
  {
   "cell_type": "code",
   "execution_count": null,
   "id": "ad8c78ef",
   "metadata": {},
   "outputs": [],
   "source": [
    "X = df_USA2[['Year']]\n",
    "X = X.values.reshape(-1, 1)  # Reshape to a 2D array\n",
    "\n",
    "y = df_USA2['AverageTemperature']\n",
    "y = y.values  # No need to reshape the target variable\n",
    "\n",
    "# Split the data into training and testing sets\n",
    "X_train, X_test, y_train, y_test = train_test_split(X, y, test_size=0.2, random_state=42)\n",
    "\n",
    "# Create and train the linear regression model\n",
    "model = LinearRegression()\n",
    "model.fit(X_train, y_train)\n",
    "\n",
    "# Make predictions on the test set\n",
    "y_pred = model.predict(X_test)\n",
    "\n",
    "# Plot the results\n",
    "plt.figure(figsize=(8, 6))\n",
    "plt.scatter(X_test, y_test, color='seagreen', label='Actual Temperatures')\n",
    "plt.plot(X_test, y_pred, color='mediumblue', linewidth=3, label='Linear Regression')\n",
    "plt.xlabel('Year')\n",
    "plt.ylabel('Land Average Temperature in Summer')\n",
    "plt.xticks(range(1910, 2015, 20))\n",
    "plt.title('Linear Regression for Summer Temperatures in Major US Cities')\n",
    "plt.legend()\n",
    "plt.show()\n",
    "\n",
    "r_squared = r2_score(y_test, y_pred)\n",
    "print(f'R-squared: {r_squared}')\n",
    "\n",
    "mse = mean_squared_error(y_test, y_pred)\n",
    "print(f'Mean Squared Error (MSE): {mse}')\n",
    "\n",
    "rmse = np.sqrt(mse)\n",
    "print(f'Root Mean Squared Error (RMSE): {rmse}')"
   ]
  },
  {
   "cell_type": "code",
   "execution_count": null,
   "id": "e3550c7a",
   "metadata": {},
   "outputs": [],
   "source": [
    "X = df_ny[['Year']]\n",
    "X = X.values.reshape(-1, 1)  # Reshape to a 2D array\n",
    "\n",
    "y = df_ny['AverageTemperature']\n",
    "y = y.values  # No need to reshape the target variable\n",
    "\n",
    "# Split the data into training and testing sets\n",
    "X_train, X_test, y_train, y_test = train_test_split(X, y, test_size=0.2, random_state=42)\n",
    "\n",
    "# Create and train the linear regression model\n",
    "model = LinearRegression()\n",
    "model.fit(X_train, y_train)\n",
    "\n",
    "# Make predictions on the test set\n",
    "y_pred = model.predict(X_test)\n",
    "\n",
    "# Plot the results\n",
    "plt.figure(figsize=(12, 8))\n",
    "plt.scatter(X_test, y_test, color='orchid', label='Actual Temperatures')\n",
    "plt.plot(X_test, y_pred, color='blue', linewidth=3, label='Linear Regression')\n",
    "plt.xlabel('Year')\n",
    "plt.ylabel('Land Average Temperature in Summer')\n",
    "plt.xticks(range(1900, 2015, 20))\n",
    "plt.title('Linear Regression for Summer Temperatures in Major US Cities')\n",
    "plt.legend()\n",
    "plt.show()\n",
    "\n",
    "r_squared = r2_score(y_test, y_pred)\n",
    "print(f'R-squared: {r_squared}')\n",
    "\n",
    "mse = mean_squared_error(y_test, y_pred)\n",
    "print(f'Mean Squared Error (MSE): {mse}')\n",
    "\n",
    "rmse = np.sqrt(mse)\n",
    "print(f'Root Mean Squared Error (RMSE): {rmse}')"
   ]
  },
  {
   "cell_type": "code",
   "execution_count": null,
   "id": "433f1fce",
   "metadata": {},
   "outputs": [],
   "source": [
    "# df_USA = df_USA[df_USA['Year'] >= 1900]\n",
    "df_USA"
   ]
  },
  {
   "cell_type": "code",
   "execution_count": null,
   "id": "2cf7b882",
   "metadata": {},
   "outputs": [],
   "source": [
    "temperature_data = df_USA[['AverageTemperature', 'AverageTemperatureUncertainty', 'Year']]\n",
    "\n",
    "# Standardize the data\n",
    "scaler = StandardScaler()\n",
    "temperature_data_scaled = scaler.fit_transform(temperature_data)\n",
    "\n",
    "# Apply K-Means clustering\n",
    "num_clusters = 3  # Adjust the number of clusters based on your analysis\n",
    "kmeans = KMeans(n_clusters=num_clusters, init='k-means++', max_iter=300, n_init=10, random_state=0)\n",
    "clusters = kmeans.fit_predict(temperature_data_scaled)\n",
    "\n",
    "# Add cluster labels to the original DataFrame\n",
    "df_USA['Cluster'] = clusters\n",
    "\n",
    "# Visualize the clusters\n",
    "plt.figure(figsize=(8, 6))  # Set the figure size to 12x8 inches\n",
    "plt.scatter(df_USA['Year'], df_USA['AverageTemperature'], c=df_USA['Cluster'], cmap='viridis', alpha=0.7)  # Adjust alpha for transparency\n",
    "plt.xlabel('Year')\n",
    "plt.ylabel('Average Temperature')\n",
    "plt.title('K-Means Clustering of US City Temperatures')\n",
    "plt.show()"
   ]
  },
  {
   "cell_type": "code",
   "execution_count": null,
   "id": "71a7bcbf",
   "metadata": {},
   "outputs": [],
   "source": [
    "cluster1 = df_USA[df_USA['Cluster'] == 0]\n",
    "cluster2 = df_USA[df_USA['Cluster'] == 1]\n",
    "cluster3 = df_USA[df_USA['Cluster'] == 2]"
   ]
  },
  {
   "cell_type": "code",
   "execution_count": null,
   "id": "e22bc457",
   "metadata": {},
   "outputs": [],
   "source": [
    "df_USA3 = df_country[(df_country['Country'] == 'United States') & ((df_country['Month'] == 6) \n",
    "                    | (df_country['Month'] == 7) | (df_country['Month'] == 8)) ]\n",
    "df_USA3"
   ]
  },
  {
   "cell_type": "code",
   "execution_count": null,
   "id": "a1ee363f",
   "metadata": {},
   "outputs": [],
   "source": [
    "temperature_data = df_USA2[['AverageTemperature', 'AverageTemperatureUncertainty', 'Year']]\n",
    "\n",
    "# Standardize the data\n",
    "scaler = StandardScaler()\n",
    "temperature_data_scaled = scaler.fit_transform(temperature_data)\n",
    "\n",
    "# Apply K-Means clustering\n",
    "num_clusters = 2  # Adjust the number of clusters based on your analysis\n",
    "kmeans = KMeans(n_clusters=num_clusters, init='k-means++', max_iter=300, n_init=10, random_state=0)\n",
    "clusters = kmeans.fit_predict(temperature_data_scaled)\n",
    "\n",
    "# Add cluster labels to the original DataFrame\n",
    "df_USA2['Cluster'] = clusters\n",
    "\n",
    "# Visualize the clusters\n",
    "plt.figure(figsize=(8, 6))  # Set the figure size to 12x8 inches\n",
    "plt.scatter(df_USA2['Year'], df_USA2['AverageTemperature'], c=df_USA2['Cluster'], cmap='viridis', alpha=0.7)  # Adjust alpha for transparency\n",
    "plt.xlabel('Year')\n",
    "plt.ylabel('Average Temperature')\n",
    "plt.title('K-Means Clustering of US City Temperatures')\n",
    "plt.show()\n",
    "\n",
    "# Compute silhouette score\n",
    "silhouette_avg = silhouette_score(temperature_data_scaled, clusters)\n",
    "print(f\"Silhouette Score: {silhouette_avg}\")\n",
    "\n",
    "inertia_value = kmeans.inertia_\n",
    "print(f\"Inertia: {inertia_value}\")"
   ]
  },
  {
   "cell_type": "code",
   "execution_count": null,
   "id": "3a291eed",
   "metadata": {},
   "outputs": [],
   "source": [
    "temperature_data = df_USA3[['AverageTemperature', 'AverageTemperatureUncertainty', 'Year']]\n",
    "\n",
    "# Standardize the data\n",
    "scaler = StandardScaler()\n",
    "temperature_data_scaled = scaler.fit_transform(temperature_data)\n",
    "\n",
    "# Apply K-Means clustering\n",
    "num_clusters = 2  # Adjust the number of clusters based on your analysis\n",
    "kmeans = KMeans(n_clusters=num_clusters, init='k-means++', max_iter=300, n_init=10, random_state=0)\n",
    "clusters = kmeans.fit_predict(temperature_data_scaled)\n",
    "\n",
    "# Add cluster labels to the original DataFrame\n",
    "df_USA3['Cluster'] = clusters\n",
    "\n",
    "# Visualize the clusters\n",
    "plt.figure(figsize=(8, 6))  # Set the figure size to 12x8 inches\n",
    "plt.scatter(df_USA3['Year'], df_USA3['AverageTemperature'], c=df_USA3['Cluster'], cmap='viridis', alpha=0.7)  # Adjust alpha for transparency\n",
    "plt.xlabel('Year')\n",
    "plt.ylabel('Average Temperature')\n",
    "plt.title('K-Means Clustering of US Temperatures')\n",
    "plt.show()\n",
    "\n",
    "silhouette_avg = silhouette_score(temperature_data_scaled, clusters)\n",
    "print(f\"Silhouette Score: {silhouette_avg}\")\n",
    "\n",
    "inertia_value = kmeans.inertia_\n",
    "print(f\"Inertia: {inertia_value}\")"
   ]
  },
  {
   "cell_type": "code",
   "execution_count": null,
   "id": "553097d0",
   "metadata": {},
   "outputs": [],
   "source": [
    "numeric_columns = df_USA.select_dtypes(include=['float64', 'int64']).columns\n",
    "df_numeric = df_USA[numeric_columns]\n",
    "\n",
    "# Preprocess the data with StandardScaler\n",
    "scaler = preprocessing.StandardScaler()\n",
    "df_scaled = scaler.fit_transform(df_numeric)\n",
    "\n",
    "# Create the model\n",
    "model = cluster.KMeans(n_clusters=3)\n",
    "model.fit(df_scaled)\n",
    "\n",
    "# Find clusters in the data\n",
    "cluster_ids = model.predict(df_scaled)\n",
    "\n",
    "# Calculate silhouette scores for the clusters found\n",
    "# features = ['exam_score_main_objects', 'study_time_main_objects', 'knowledge_level', 'study_time_related_objects']\n",
    "# X = df[features]\n",
    "silhouette_scores = metrics.silhouette_samples(df_scaled, cluster_ids)\n",
    "mean_silhouette = metrics.silhouette_score(df_scaled, cluster_ids)\n",
    "print(mean_silhouette)"
   ]
  },
  {
   "cell_type": "code",
   "execution_count": null,
   "id": "12ab9f92",
   "metadata": {},
   "outputs": [],
   "source": [
    "df_country['Country'].value_counts()"
   ]
  },
  {
   "cell_type": "code",
   "execution_count": null,
   "id": "50cf4d15",
   "metadata": {},
   "outputs": [],
   "source": []
  }
 ],
 "metadata": {
  "kernelspec": {
   "display_name": "is327",
   "language": "python",
   "name": "is327"
  },
  "language_info": {
   "codemirror_mode": {
    "name": "ipython",
    "version": 3
   },
   "file_extension": ".py",
   "mimetype": "text/x-python",
   "name": "python",
   "nbconvert_exporter": "python",
   "pygments_lexer": "ipython3",
   "version": "3.10.0"
  }
 },
 "nbformat": 4,
 "nbformat_minor": 5
}
