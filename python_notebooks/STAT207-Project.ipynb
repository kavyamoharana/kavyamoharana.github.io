{
 "cells": [
  {
   "cell_type": "markdown",
   "metadata": {},
   "source": [
    "# STAT207 Final Project:\n",
    "# Analyzing Popular Movies & TV Shows on Netflix and Amazon Prime Video\n",
    "\n",
    "**Group Members: Megha Rao (mkrao2), Kavya Moharana (kavyam3)**\n",
    "\n",
    "**Lab Section YK**"
   ]
  },
  {
   "cell_type": "markdown",
   "metadata": {},
   "source": [
    "## 1. Introduction"
   ]
  },
  {
   "cell_type": "markdown",
   "metadata": {},
   "source": [
    "### Motivation behind the Analysis:\n",
    "\n",
    "Our main motivation behind exploring this dataset would be the popularity and widespread use of Netflix and Amazon Prime Video as the top 2 streaming platforms for movies and television. We both love using these platforms for binging TV shows or movies and believe that analyzing such data would be helpful to us and others with similar hobbies.\n",
    "\n",
    "Ultimately we would like to determine if either streaming platform contained certain movies/shows with higher ratings and if the ratings differ based on genre or year of release.\n",
    "\n",
    "### Research Questions:\n",
    "\n",
    "In this report we will be analyzing the data to answer the following research questions\n",
    "1. How does the relationship between genre and the year it came out affect the overall Rotten Tomatoes rating of the movie?\n",
    "2. Is there an association between Action and Adventure titles and higher rated Rotten Tomato scores from the population of popular movies and tv shows on Netflix and Amazon Prime Video?\n",
    "3. Is there a linear relationship between the Rotten Tomatoes rating of a movie and the year it was released, the age rating, and whether the movie is on Netflix or Amazon Prime Video?\n",
    "4. Can we predict whether a movie is available on Netflix based on its age rating, genre, Rotten Tomatoes score, and IMDb rating?\n",
    "\n",
    "Answering these questions could allow for movie/show critics and reviewers to use this information to analyze trends and patterns in the movie industry. It could also possibly help filmmakers and studios make decisions about what genres to focus on in order to produce higher rated movies. Analyzing the variables that affect Rotten Tomatoes scores can also provide insights into what factors contribute to what the website considers to be a successful movie or tv show.\n",
    "\n",
    "### The Dataset:"
   ]
  },
  {
   "cell_type": "code",
   "execution_count": 26,
   "metadata": {},
   "outputs": [],
   "source": [
    "#Imports here\n",
    "import pandas as pd\n",
    "import matplotlib.pyplot as plt\n",
    "import seaborn as sns; sns.set()\n",
    "from scipy.stats import norm\n",
    "from scipy.stats import t\n",
    "import statsmodels.api as sm\n",
    "import statsmodels.formula.api as smf"
   ]
  },
  {
   "cell_type": "code",
   "execution_count": 2,
   "metadata": {},
   "outputs": [
    {
     "data": {
      "text/html": [
       "<div>\n",
       "<style scoped>\n",
       "    .dataframe tbody tr th:only-of-type {\n",
       "        vertical-align: middle;\n",
       "    }\n",
       "\n",
       "    .dataframe tbody tr th {\n",
       "        vertical-align: top;\n",
       "    }\n",
       "\n",
       "    .dataframe thead th {\n",
       "        text-align: right;\n",
       "    }\n",
       "</style>\n",
       "<table border=\"1\" class=\"dataframe\">\n",
       "  <thead>\n",
       "    <tr style=\"text-align: right;\">\n",
       "      <th></th>\n",
       "      <th>Unnamed: 0</th>\n",
       "      <th>ID</th>\n",
       "      <th>Title</th>\n",
       "      <th>Year</th>\n",
       "      <th>Rating</th>\n",
       "      <th>IMDb</th>\n",
       "      <th>Rotten Tomatoes</th>\n",
       "      <th>Genre</th>\n",
       "      <th>Netflix</th>\n",
       "      <th>Amazon Prime Video</th>\n",
       "    </tr>\n",
       "  </thead>\n",
       "  <tbody>\n",
       "    <tr>\n",
       "      <th>0</th>\n",
       "      <td>0</td>\n",
       "      <td>1</td>\n",
       "      <td>Terminator: Dark Fate</td>\n",
       "      <td>2019</td>\n",
       "      <td>18+</td>\n",
       "      <td>6.2</td>\n",
       "      <td>81.0</td>\n",
       "      <td>Action &amp; Adventure</td>\n",
       "      <td>0</td>\n",
       "      <td>1</td>\n",
       "    </tr>\n",
       "    <tr>\n",
       "      <th>1</th>\n",
       "      <td>1</td>\n",
       "      <td>2</td>\n",
       "      <td>Gemini Man</td>\n",
       "      <td>2019</td>\n",
       "      <td>13+</td>\n",
       "      <td>5.7</td>\n",
       "      <td>74.0</td>\n",
       "      <td>Action &amp; Adventure</td>\n",
       "      <td>0</td>\n",
       "      <td>1</td>\n",
       "    </tr>\n",
       "    <tr>\n",
       "      <th>2</th>\n",
       "      <td>2</td>\n",
       "      <td>3</td>\n",
       "      <td>Rambo: Last Blood</td>\n",
       "      <td>2019</td>\n",
       "      <td>18+</td>\n",
       "      <td>6.1</td>\n",
       "      <td>72.0</td>\n",
       "      <td>Action &amp; Adventure</td>\n",
       "      <td>0</td>\n",
       "      <td>1</td>\n",
       "    </tr>\n",
       "    <tr>\n",
       "      <th>3</th>\n",
       "      <td>3</td>\n",
       "      <td>4</td>\n",
       "      <td>The Courier</td>\n",
       "      <td>2019</td>\n",
       "      <td>18+</td>\n",
       "      <td>4.9</td>\n",
       "      <td>50.0</td>\n",
       "      <td>Action &amp; Adventure</td>\n",
       "      <td>0</td>\n",
       "      <td>1</td>\n",
       "    </tr>\n",
       "    <tr>\n",
       "      <th>4</th>\n",
       "      <td>4</td>\n",
       "      <td>5</td>\n",
       "      <td>Crawl</td>\n",
       "      <td>2019</td>\n",
       "      <td>18+</td>\n",
       "      <td>6.1</td>\n",
       "      <td>79.0</td>\n",
       "      <td>Action &amp; Adventure</td>\n",
       "      <td>0</td>\n",
       "      <td>1</td>\n",
       "    </tr>\n",
       "    <tr>\n",
       "      <th>5</th>\n",
       "      <td>5</td>\n",
       "      <td>6</td>\n",
       "      <td>The Kill Team</td>\n",
       "      <td>2019</td>\n",
       "      <td>18+</td>\n",
       "      <td>5.9</td>\n",
       "      <td>61.0</td>\n",
       "      <td>Action &amp; Adventure</td>\n",
       "      <td>0</td>\n",
       "      <td>1</td>\n",
       "    </tr>\n",
       "  </tbody>\n",
       "</table>\n",
       "</div>"
      ],
      "text/plain": [
       "   Unnamed: 0  ID                  Title  Year Rating IMDb  Rotten Tomatoes  \\\n",
       "0           0   1  Terminator: Dark Fate  2019    18+  6.2             81.0   \n",
       "1           1   2             Gemini Man  2019    13+  5.7             74.0   \n",
       "2           2   3      Rambo: Last Blood  2019    18+  6.1             72.0   \n",
       "3           3   4            The Courier  2019    18+  4.9             50.0   \n",
       "4           4   5                  Crawl  2019    18+  6.1             79.0   \n",
       "5           5   6          The Kill Team  2019    18+  5.9             61.0   \n",
       "\n",
       "                Genre  Netflix  Amazon Prime Video  \n",
       "0  Action & Adventure        0                   1  \n",
       "1  Action & Adventure        0                   1  \n",
       "2  Action & Adventure        0                   1  \n",
       "3  Action & Adventure        0                   1  \n",
       "4  Action & Adventure        0                   1  \n",
       "5  Action & Adventure        0                   1  "
      ]
     },
     "execution_count": 2,
     "metadata": {},
     "output_type": "execute_result"
    }
   ],
   "source": [
    "df = pd.read_csv(\"netflix_amazon.csv\", na_values=[\"na\"])\n",
    "df.head(6)"
   ]
  },
  {
   "cell_type": "code",
   "execution_count": 3,
   "metadata": {},
   "outputs": [
    {
     "name": "stdout",
     "output_type": "stream",
     "text": [
      "Rows and Columns: (24664, 10)\n"
     ]
    }
   ],
   "source": [
    "print(\"Rows and Columns:\", df.shape)"
   ]
  },
  {
   "cell_type": "markdown",
   "metadata": {},
   "source": [
    "### Details & Limitations of the Dataset:\n",
    "This dataset is from Kaggle and presents a collection of popular movies and TV shows on both Netflix and Amazon Prime. The dataframe contains 10 columns and 24664 rows before cleaning for missing values and other factors. Currently, the data includes titles from 1912 all the way to 2021 but we would like to focus in on the programs from the most recent decade of 2011 to 2021.\n",
    "\n",
    "There are some limitations to the data as it does not include any variables which allow for us to differentiate between TV shows and movies in the dataset. Therefore, we have chosen to look at both of these forms of media hollistically instead of differentiating between the two."
   ]
  },
  {
   "cell_type": "markdown",
   "metadata": {},
   "source": [
    "### Data Cleaning\n",
    "In this section we clean the dataset for missing values, make sure each variable is of the correct datatype, adjust the data to only be from 2011 to 2021, change the names of variables to be more clear, and remove the '+' symbol from the Age Rating column. "
   ]
  },
  {
   "cell_type": "code",
   "execution_count": 4,
   "metadata": {},
   "outputs": [
    {
     "name": "stdout",
     "output_type": "stream",
     "text": [
      "['18+' '13+' nan '7+' '16+' 'all']\n",
      "[81. 74. 72. 50. 79. 61. 63. 39. 94. 49. 55. 73. 47. 84. 51. 59. 90. 64.\n",
      " 44. 54. 53. 42. 41. 85. 86. 48. 57. 56. 32. 80. 38. 70. 40. 66. 65. 75.\n",
      " 31. 43. 76. 71. 69. 36. 58. 62. 78. 25. 34. 46. 67. 68. 77. 45. 60. 52.\n",
      " 37. 83. 35. 33. 28. 23. 24. 30. 22. 29. 27. 26. 88. 87. 93. 82. 14. 20.\n",
      " 21. 13. 92. nan 18. 19. 16. 12. 10. 17. 15. 91. 89.]\n",
      "['6.2' '5.7' '6.1' '4.9' '5.9' '5.3' '3.1' '8.0' '4.4' '6.8' '5.0' '6.6'\n",
      " '7.6' '3.5' '5.2' '4.1' '7.7' '7.0' '6.5' '3.9' '7.3' '3.8' '6.4' '5.8'\n",
      " '4.2' '7.2' '4.6' '7.9' '6.7' '4.5' '5.6' '4.8' '6.0' '7.8' '6.9' '4.7'\n",
      " '7.1' '3.6' '7.5' '7.4' '1.9' '5.5' '5.1' '6.3' '3.7' '5.4' nan '8.3'\n",
      " '8.6' '4.3' '8.2' '8.1' '2.7' '4.0' '2.5' '2.4' '2.2' '3.3' '2.8' '3.2'\n",
      " '2.9' '2.3' '3.4' '3.0' '1.8' '2.6' '8.4' '8.5' '2.0' '8.7' '1.7' '1.5'\n",
      " '1.6' '2.1' '8.9' 'd;}' '8.8' '9.8' '1.3' '1.4' '9.6' '9.2' '9.0' '9.3'\n",
      " '1.0' '0.0' '9.1' '1.1']\n",
      "['Action & Adventure' 'Animation' 'Biography' 'Comedy' 'Crime'\n",
      " 'Documentary' 'Drama' 'Family' 'Fantasy' 'Horror' 'Mystery' 'Romance'\n",
      " 'Thriller' 'Anime']\n"
     ]
    }
   ],
   "source": [
    "# looking for unique values\n",
    "print(df.Rating.unique())\n",
    "print(df[\"Rotten Tomatoes\"].unique())\n",
    "print(df[\"IMDb\"].unique())\n",
    "print(df[\"Genre\"].unique())"
   ]
  },
  {
   "cell_type": "code",
   "execution_count": 5,
   "metadata": {},
   "outputs": [
    {
     "data": {
      "text/html": [
       "<div>\n",
       "<style scoped>\n",
       "    .dataframe tbody tr th:only-of-type {\n",
       "        vertical-align: middle;\n",
       "    }\n",
       "\n",
       "    .dataframe tbody tr th {\n",
       "        vertical-align: top;\n",
       "    }\n",
       "\n",
       "    .dataframe thead th {\n",
       "        text-align: right;\n",
       "    }\n",
       "</style>\n",
       "<table border=\"1\" class=\"dataframe\">\n",
       "  <thead>\n",
       "    <tr style=\"text-align: right;\">\n",
       "      <th></th>\n",
       "      <th>Unnamed: 0</th>\n",
       "      <th>ID</th>\n",
       "      <th>Title</th>\n",
       "      <th>Year</th>\n",
       "      <th>Rating</th>\n",
       "      <th>IMDb</th>\n",
       "      <th>Rotten Tomatoes</th>\n",
       "      <th>Genre</th>\n",
       "      <th>Netflix</th>\n",
       "      <th>Amazon Prime Video</th>\n",
       "    </tr>\n",
       "  </thead>\n",
       "  <tbody>\n",
       "    <tr>\n",
       "      <th>0</th>\n",
       "      <td>0</td>\n",
       "      <td>1</td>\n",
       "      <td>Terminator: Dark Fate</td>\n",
       "      <td>2019</td>\n",
       "      <td>18+</td>\n",
       "      <td>6.2</td>\n",
       "      <td>81.0</td>\n",
       "      <td>Action &amp; Adventure</td>\n",
       "      <td>0</td>\n",
       "      <td>1</td>\n",
       "    </tr>\n",
       "    <tr>\n",
       "      <th>1</th>\n",
       "      <td>1</td>\n",
       "      <td>2</td>\n",
       "      <td>Gemini Man</td>\n",
       "      <td>2019</td>\n",
       "      <td>13+</td>\n",
       "      <td>5.7</td>\n",
       "      <td>74.0</td>\n",
       "      <td>Action &amp; Adventure</td>\n",
       "      <td>0</td>\n",
       "      <td>1</td>\n",
       "    </tr>\n",
       "    <tr>\n",
       "      <th>2</th>\n",
       "      <td>2</td>\n",
       "      <td>3</td>\n",
       "      <td>Rambo: Last Blood</td>\n",
       "      <td>2019</td>\n",
       "      <td>18+</td>\n",
       "      <td>6.1</td>\n",
       "      <td>72.0</td>\n",
       "      <td>Action &amp; Adventure</td>\n",
       "      <td>0</td>\n",
       "      <td>1</td>\n",
       "    </tr>\n",
       "    <tr>\n",
       "      <th>3</th>\n",
       "      <td>3</td>\n",
       "      <td>4</td>\n",
       "      <td>The Courier</td>\n",
       "      <td>2019</td>\n",
       "      <td>18+</td>\n",
       "      <td>4.9</td>\n",
       "      <td>50.0</td>\n",
       "      <td>Action &amp; Adventure</td>\n",
       "      <td>0</td>\n",
       "      <td>1</td>\n",
       "    </tr>\n",
       "    <tr>\n",
       "      <th>4</th>\n",
       "      <td>4</td>\n",
       "      <td>5</td>\n",
       "      <td>Crawl</td>\n",
       "      <td>2019</td>\n",
       "      <td>18+</td>\n",
       "      <td>6.1</td>\n",
       "      <td>79.0</td>\n",
       "      <td>Action &amp; Adventure</td>\n",
       "      <td>0</td>\n",
       "      <td>1</td>\n",
       "    </tr>\n",
       "    <tr>\n",
       "      <th>...</th>\n",
       "      <td>...</td>\n",
       "      <td>...</td>\n",
       "      <td>...</td>\n",
       "      <td>...</td>\n",
       "      <td>...</td>\n",
       "      <td>...</td>\n",
       "      <td>...</td>\n",
       "      <td>...</td>\n",
       "      <td>...</td>\n",
       "      <td>...</td>\n",
       "    </tr>\n",
       "    <tr>\n",
       "      <th>24602</th>\n",
       "      <td>24602</td>\n",
       "      <td>24603</td>\n",
       "      <td>Needhi Singh</td>\n",
       "      <td>2016</td>\n",
       "      <td>7+</td>\n",
       "      <td>6.2</td>\n",
       "      <td>31.0</td>\n",
       "      <td>Drama</td>\n",
       "      <td>1</td>\n",
       "      <td>0</td>\n",
       "    </tr>\n",
       "    <tr>\n",
       "      <th>24611</th>\n",
       "      <td>24611</td>\n",
       "      <td>24612</td>\n",
       "      <td>Khido Khundi</td>\n",
       "      <td>2018</td>\n",
       "      <td>7+</td>\n",
       "      <td>6.5</td>\n",
       "      <td>42.0</td>\n",
       "      <td>Drama</td>\n",
       "      <td>1</td>\n",
       "      <td>0</td>\n",
       "    </tr>\n",
       "    <tr>\n",
       "      <th>24627</th>\n",
       "      <td>24627</td>\n",
       "      <td>24628</td>\n",
       "      <td>Hajwala: The Missing Engine</td>\n",
       "      <td>2016</td>\n",
       "      <td>13+</td>\n",
       "      <td>2.1</td>\n",
       "      <td>29.0</td>\n",
       "      <td>Drama</td>\n",
       "      <td>1</td>\n",
       "      <td>0</td>\n",
       "    </tr>\n",
       "    <tr>\n",
       "      <th>24654</th>\n",
       "      <td>24654</td>\n",
       "      <td>24655</td>\n",
       "      <td>S Storm</td>\n",
       "      <td>2016</td>\n",
       "      <td>13+</td>\n",
       "      <td>5.2</td>\n",
       "      <td>29.0</td>\n",
       "      <td>Drama</td>\n",
       "      <td>1</td>\n",
       "      <td>0</td>\n",
       "    </tr>\n",
       "    <tr>\n",
       "      <th>24655</th>\n",
       "      <td>24655</td>\n",
       "      <td>24656</td>\n",
       "      <td>X: Past Is Present</td>\n",
       "      <td>2015</td>\n",
       "      <td>13+</td>\n",
       "      <td>5.3</td>\n",
       "      <td>34.0</td>\n",
       "      <td>Drama</td>\n",
       "      <td>1</td>\n",
       "      <td>0</td>\n",
       "    </tr>\n",
       "  </tbody>\n",
       "</table>\n",
       "<p>9993 rows × 10 columns</p>\n",
       "</div>"
      ],
      "text/plain": [
       "       Unnamed: 0     ID                        Title  Year Rating IMDb  \\\n",
       "0               0      1        Terminator: Dark Fate  2019    18+  6.2   \n",
       "1               1      2                   Gemini Man  2019    13+  5.7   \n",
       "2               2      3            Rambo: Last Blood  2019    18+  6.1   \n",
       "3               3      4                  The Courier  2019    18+  4.9   \n",
       "4               4      5                        Crawl  2019    18+  6.1   \n",
       "...           ...    ...                          ...   ...    ...  ...   \n",
       "24602       24602  24603                 Needhi Singh  2016     7+  6.2   \n",
       "24611       24611  24612                 Khido Khundi  2018     7+  6.5   \n",
       "24627       24627  24628  Hajwala: The Missing Engine  2016    13+  2.1   \n",
       "24654       24654  24655                      S Storm  2016    13+  5.2   \n",
       "24655       24655  24656           X: Past Is Present  2015    13+  5.3   \n",
       "\n",
       "       Rotten Tomatoes               Genre  Netflix  Amazon Prime Video  \n",
       "0                 81.0  Action & Adventure        0                   1  \n",
       "1                 74.0  Action & Adventure        0                   1  \n",
       "2                 72.0  Action & Adventure        0                   1  \n",
       "3                 50.0  Action & Adventure        0                   1  \n",
       "4                 79.0  Action & Adventure        0                   1  \n",
       "...                ...                 ...      ...                 ...  \n",
       "24602             31.0               Drama        1                   0  \n",
       "24611             42.0               Drama        1                   0  \n",
       "24627             29.0               Drama        1                   0  \n",
       "24654             29.0               Drama        1                   0  \n",
       "24655             34.0               Drama        1                   0  \n",
       "\n",
       "[9993 rows x 10 columns]"
      ]
     },
     "execution_count": 5,
     "metadata": {},
     "output_type": "execute_result"
    }
   ],
   "source": [
    "# dropping NA values\n",
    "df = df.dropna()\n",
    "df"
   ]
  },
  {
   "cell_type": "code",
   "execution_count": 6,
   "metadata": {},
   "outputs": [
    {
     "name": "stdout",
     "output_type": "stream",
     "text": [
      "<class 'pandas.core.frame.DataFrame'>\n",
      "Int64Index: 9993 entries, 0 to 24655\n",
      "Data columns (total 10 columns):\n",
      " #   Column              Non-Null Count  Dtype  \n",
      "---  ------              --------------  -----  \n",
      " 0   Unnamed: 0          9993 non-null   int64  \n",
      " 1   ID                  9993 non-null   int64  \n",
      " 2   Title               9993 non-null   object \n",
      " 3   Year                9993 non-null   int64  \n",
      " 4   Rating              9993 non-null   object \n",
      " 5   IMDb                9993 non-null   object \n",
      " 6   Rotten Tomatoes     9993 non-null   float64\n",
      " 7   Genre               9993 non-null   object \n",
      " 8   Netflix             9993 non-null   int64  \n",
      " 9   Amazon Prime Video  9993 non-null   int64  \n",
      "dtypes: float64(1), int64(5), object(4)\n",
      "memory usage: 858.8+ KB\n"
     ]
    }
   ],
   "source": [
    "# checking datatypes\n",
    "df.info()"
   ]
  },
  {
   "cell_type": "code",
   "execution_count": 7,
   "metadata": {},
   "outputs": [
    {
     "data": {
      "text/plain": [
       "dtype('float64')"
      ]
     },
     "execution_count": 7,
     "metadata": {},
     "output_type": "execute_result"
    }
   ],
   "source": [
    "df['IMDb'] = df['IMDb'].astype(float)\n",
    "df['IMDb'].dtype"
   ]
  },
  {
   "cell_type": "code",
   "execution_count": 8,
   "metadata": {},
   "outputs": [
    {
     "data": {
      "text/plain": [
       "2017    715\n",
       "2018    578\n",
       "2016    558\n",
       "2014    535\n",
       "2015    523\n",
       "2013    471\n",
       "2012    432\n",
       "2019    395\n",
       "2011    376\n",
       "2020    228\n",
       "2021      4\n",
       "Name: Year, dtype: int64"
      ]
     },
     "execution_count": 8,
     "metadata": {},
     "output_type": "execute_result"
    }
   ],
   "source": [
    "# adjusting the data to be from 2011 to 2021\n",
    "df = df[ (df[\"Year\"] >= 2011) ]\n",
    "df[\"Year\"].value_counts()"
   ]
  },
  {
   "cell_type": "code",
   "execution_count": 9,
   "metadata": {},
   "outputs": [
    {
     "data": {
      "text/html": [
       "<div>\n",
       "<style scoped>\n",
       "    .dataframe tbody tr th:only-of-type {\n",
       "        vertical-align: middle;\n",
       "    }\n",
       "\n",
       "    .dataframe tbody tr th {\n",
       "        vertical-align: top;\n",
       "    }\n",
       "\n",
       "    .dataframe thead th {\n",
       "        text-align: right;\n",
       "    }\n",
       "</style>\n",
       "<table border=\"1\" class=\"dataframe\">\n",
       "  <thead>\n",
       "    <tr style=\"text-align: right;\">\n",
       "      <th></th>\n",
       "      <th>Unnamed: 0</th>\n",
       "      <th>ID</th>\n",
       "      <th>Title</th>\n",
       "      <th>Year</th>\n",
       "      <th>Age_Rating</th>\n",
       "      <th>IMDb</th>\n",
       "      <th>Rotten_Tomatoes</th>\n",
       "      <th>Genre</th>\n",
       "      <th>Netflix</th>\n",
       "      <th>Prime_Video</th>\n",
       "    </tr>\n",
       "  </thead>\n",
       "  <tbody>\n",
       "    <tr>\n",
       "      <th>0</th>\n",
       "      <td>0</td>\n",
       "      <td>1</td>\n",
       "      <td>Terminator: Dark Fate</td>\n",
       "      <td>2019</td>\n",
       "      <td>18+</td>\n",
       "      <td>6.2</td>\n",
       "      <td>81.0</td>\n",
       "      <td>Action &amp; Adventure</td>\n",
       "      <td>0</td>\n",
       "      <td>1</td>\n",
       "    </tr>\n",
       "    <tr>\n",
       "      <th>1</th>\n",
       "      <td>1</td>\n",
       "      <td>2</td>\n",
       "      <td>Gemini Man</td>\n",
       "      <td>2019</td>\n",
       "      <td>13+</td>\n",
       "      <td>5.7</td>\n",
       "      <td>74.0</td>\n",
       "      <td>Action &amp; Adventure</td>\n",
       "      <td>0</td>\n",
       "      <td>1</td>\n",
       "    </tr>\n",
       "    <tr>\n",
       "      <th>2</th>\n",
       "      <td>2</td>\n",
       "      <td>3</td>\n",
       "      <td>Rambo: Last Blood</td>\n",
       "      <td>2019</td>\n",
       "      <td>18+</td>\n",
       "      <td>6.1</td>\n",
       "      <td>72.0</td>\n",
       "      <td>Action &amp; Adventure</td>\n",
       "      <td>0</td>\n",
       "      <td>1</td>\n",
       "    </tr>\n",
       "    <tr>\n",
       "      <th>3</th>\n",
       "      <td>3</td>\n",
       "      <td>4</td>\n",
       "      <td>The Courier</td>\n",
       "      <td>2019</td>\n",
       "      <td>18+</td>\n",
       "      <td>4.9</td>\n",
       "      <td>50.0</td>\n",
       "      <td>Action &amp; Adventure</td>\n",
       "      <td>0</td>\n",
       "      <td>1</td>\n",
       "    </tr>\n",
       "    <tr>\n",
       "      <th>4</th>\n",
       "      <td>4</td>\n",
       "      <td>5</td>\n",
       "      <td>Crawl</td>\n",
       "      <td>2019</td>\n",
       "      <td>18+</td>\n",
       "      <td>6.1</td>\n",
       "      <td>79.0</td>\n",
       "      <td>Action &amp; Adventure</td>\n",
       "      <td>0</td>\n",
       "      <td>1</td>\n",
       "    </tr>\n",
       "    <tr>\n",
       "      <th>...</th>\n",
       "      <td>...</td>\n",
       "      <td>...</td>\n",
       "      <td>...</td>\n",
       "      <td>...</td>\n",
       "      <td>...</td>\n",
       "      <td>...</td>\n",
       "      <td>...</td>\n",
       "      <td>...</td>\n",
       "      <td>...</td>\n",
       "      <td>...</td>\n",
       "    </tr>\n",
       "    <tr>\n",
       "      <th>24602</th>\n",
       "      <td>24602</td>\n",
       "      <td>24603</td>\n",
       "      <td>Needhi Singh</td>\n",
       "      <td>2016</td>\n",
       "      <td>7+</td>\n",
       "      <td>6.2</td>\n",
       "      <td>31.0</td>\n",
       "      <td>Drama</td>\n",
       "      <td>1</td>\n",
       "      <td>0</td>\n",
       "    </tr>\n",
       "    <tr>\n",
       "      <th>24611</th>\n",
       "      <td>24611</td>\n",
       "      <td>24612</td>\n",
       "      <td>Khido Khundi</td>\n",
       "      <td>2018</td>\n",
       "      <td>7+</td>\n",
       "      <td>6.5</td>\n",
       "      <td>42.0</td>\n",
       "      <td>Drama</td>\n",
       "      <td>1</td>\n",
       "      <td>0</td>\n",
       "    </tr>\n",
       "    <tr>\n",
       "      <th>24627</th>\n",
       "      <td>24627</td>\n",
       "      <td>24628</td>\n",
       "      <td>Hajwala: The Missing Engine</td>\n",
       "      <td>2016</td>\n",
       "      <td>13+</td>\n",
       "      <td>2.1</td>\n",
       "      <td>29.0</td>\n",
       "      <td>Drama</td>\n",
       "      <td>1</td>\n",
       "      <td>0</td>\n",
       "    </tr>\n",
       "    <tr>\n",
       "      <th>24654</th>\n",
       "      <td>24654</td>\n",
       "      <td>24655</td>\n",
       "      <td>S Storm</td>\n",
       "      <td>2016</td>\n",
       "      <td>13+</td>\n",
       "      <td>5.2</td>\n",
       "      <td>29.0</td>\n",
       "      <td>Drama</td>\n",
       "      <td>1</td>\n",
       "      <td>0</td>\n",
       "    </tr>\n",
       "    <tr>\n",
       "      <th>24655</th>\n",
       "      <td>24655</td>\n",
       "      <td>24656</td>\n",
       "      <td>X: Past Is Present</td>\n",
       "      <td>2015</td>\n",
       "      <td>13+</td>\n",
       "      <td>5.3</td>\n",
       "      <td>34.0</td>\n",
       "      <td>Drama</td>\n",
       "      <td>1</td>\n",
       "      <td>0</td>\n",
       "    </tr>\n",
       "  </tbody>\n",
       "</table>\n",
       "<p>4815 rows × 10 columns</p>\n",
       "</div>"
      ],
      "text/plain": [
       "       Unnamed: 0     ID                        Title  Year Age_Rating  IMDb  \\\n",
       "0               0      1        Terminator: Dark Fate  2019        18+   6.2   \n",
       "1               1      2                   Gemini Man  2019        13+   5.7   \n",
       "2               2      3            Rambo: Last Blood  2019        18+   6.1   \n",
       "3               3      4                  The Courier  2019        18+   4.9   \n",
       "4               4      5                        Crawl  2019        18+   6.1   \n",
       "...           ...    ...                          ...   ...        ...   ...   \n",
       "24602       24602  24603                 Needhi Singh  2016         7+   6.2   \n",
       "24611       24611  24612                 Khido Khundi  2018         7+   6.5   \n",
       "24627       24627  24628  Hajwala: The Missing Engine  2016        13+   2.1   \n",
       "24654       24654  24655                      S Storm  2016        13+   5.2   \n",
       "24655       24655  24656           X: Past Is Present  2015        13+   5.3   \n",
       "\n",
       "       Rotten_Tomatoes               Genre  Netflix  Prime_Video  \n",
       "0                 81.0  Action & Adventure        0            1  \n",
       "1                 74.0  Action & Adventure        0            1  \n",
       "2                 72.0  Action & Adventure        0            1  \n",
       "3                 50.0  Action & Adventure        0            1  \n",
       "4                 79.0  Action & Adventure        0            1  \n",
       "...                ...                 ...      ...          ...  \n",
       "24602             31.0               Drama        1            0  \n",
       "24611             42.0               Drama        1            0  \n",
       "24627             29.0               Drama        1            0  \n",
       "24654             29.0               Drama        1            0  \n",
       "24655             34.0               Drama        1            0  \n",
       "\n",
       "[4815 rows x 10 columns]"
      ]
     },
     "execution_count": 9,
     "metadata": {},
     "output_type": "execute_result"
    }
   ],
   "source": [
    "# renaming variables\n",
    "df = df.rename(columns={'Rotten Tomatoes': 'Rotten_Tomatoes', 'Amazon Prime Video': 'Prime_Video', 'Rating': 'Age_Rating'})\n",
    "df"
   ]
  },
  {
   "cell_type": "code",
   "execution_count": 10,
   "metadata": {},
   "outputs": [
    {
     "data": {
      "text/plain": [
       "18     2039\n",
       "13     1014\n",
       "7       922\n",
       "all     421\n",
       "16      419\n",
       "Name: Age_Rating, dtype: int64"
      ]
     },
     "execution_count": 10,
     "metadata": {},
     "output_type": "execute_result"
    }
   ],
   "source": [
    "# removing '+' symbol from Age Rating column\n",
    "df['Age_Rating'] = df['Age_Rating'].str.replace('+', '', regex=False)\n",
    "df['Age_Rating'].value_counts()"
   ]
  },
  {
   "cell_type": "markdown",
   "metadata": {},
   "source": [
    "**After data cleaning the dataset contains 4815 rows and 10 columns.**"
   ]
  },
  {
   "cell_type": "markdown",
   "metadata": {},
   "source": [
    "## 2. Descriptive Analytics"
   ]
  },
  {
   "cell_type": "markdown",
   "metadata": {},
   "source": [
    "*In this section we will be exploring the following research question:*\n",
    "\n",
    "**How does the relationship between genre and the year it came out affect the overall Rotten Tomatoes rating of the movie?**\n",
    "\n",
    "First, we'll filter the data to only look at the top 5 movie genres with the most observations in the dataset: Drama, Action & Adventure, Comedy, Crime, and Horror."
   ]
  },
  {
   "cell_type": "code",
   "execution_count": 11,
   "metadata": {},
   "outputs": [
    {
     "data": {
      "text/html": [
       "<div>\n",
       "<style scoped>\n",
       "    .dataframe tbody tr th:only-of-type {\n",
       "        vertical-align: middle;\n",
       "    }\n",
       "\n",
       "    .dataframe tbody tr th {\n",
       "        vertical-align: top;\n",
       "    }\n",
       "\n",
       "    .dataframe thead th {\n",
       "        text-align: right;\n",
       "    }\n",
       "</style>\n",
       "<table border=\"1\" class=\"dataframe\">\n",
       "  <thead>\n",
       "    <tr style=\"text-align: right;\">\n",
       "      <th></th>\n",
       "      <th>Unnamed: 0</th>\n",
       "      <th>ID</th>\n",
       "      <th>Title</th>\n",
       "      <th>Year</th>\n",
       "      <th>Age_Rating</th>\n",
       "      <th>IMDb</th>\n",
       "      <th>Rotten_Tomatoes</th>\n",
       "      <th>Genre</th>\n",
       "      <th>Netflix</th>\n",
       "      <th>Prime_Video</th>\n",
       "    </tr>\n",
       "  </thead>\n",
       "  <tbody>\n",
       "    <tr>\n",
       "      <th>0</th>\n",
       "      <td>0</td>\n",
       "      <td>1</td>\n",
       "      <td>Terminator: Dark Fate</td>\n",
       "      <td>2019</td>\n",
       "      <td>18</td>\n",
       "      <td>6.2</td>\n",
       "      <td>81.0</td>\n",
       "      <td>Action &amp; Adventure</td>\n",
       "      <td>0</td>\n",
       "      <td>1</td>\n",
       "    </tr>\n",
       "    <tr>\n",
       "      <th>1</th>\n",
       "      <td>1</td>\n",
       "      <td>2</td>\n",
       "      <td>Gemini Man</td>\n",
       "      <td>2019</td>\n",
       "      <td>13</td>\n",
       "      <td>5.7</td>\n",
       "      <td>74.0</td>\n",
       "      <td>Action &amp; Adventure</td>\n",
       "      <td>0</td>\n",
       "      <td>1</td>\n",
       "    </tr>\n",
       "    <tr>\n",
       "      <th>2</th>\n",
       "      <td>2</td>\n",
       "      <td>3</td>\n",
       "      <td>Rambo: Last Blood</td>\n",
       "      <td>2019</td>\n",
       "      <td>18</td>\n",
       "      <td>6.1</td>\n",
       "      <td>72.0</td>\n",
       "      <td>Action &amp; Adventure</td>\n",
       "      <td>0</td>\n",
       "      <td>1</td>\n",
       "    </tr>\n",
       "    <tr>\n",
       "      <th>3</th>\n",
       "      <td>3</td>\n",
       "      <td>4</td>\n",
       "      <td>The Courier</td>\n",
       "      <td>2019</td>\n",
       "      <td>18</td>\n",
       "      <td>4.9</td>\n",
       "      <td>50.0</td>\n",
       "      <td>Action &amp; Adventure</td>\n",
       "      <td>0</td>\n",
       "      <td>1</td>\n",
       "    </tr>\n",
       "    <tr>\n",
       "      <th>4</th>\n",
       "      <td>4</td>\n",
       "      <td>5</td>\n",
       "      <td>Crawl</td>\n",
       "      <td>2019</td>\n",
       "      <td>18</td>\n",
       "      <td>6.1</td>\n",
       "      <td>79.0</td>\n",
       "      <td>Action &amp; Adventure</td>\n",
       "      <td>0</td>\n",
       "      <td>1</td>\n",
       "    </tr>\n",
       "    <tr>\n",
       "      <th>...</th>\n",
       "      <td>...</td>\n",
       "      <td>...</td>\n",
       "      <td>...</td>\n",
       "      <td>...</td>\n",
       "      <td>...</td>\n",
       "      <td>...</td>\n",
       "      <td>...</td>\n",
       "      <td>...</td>\n",
       "      <td>...</td>\n",
       "      <td>...</td>\n",
       "    </tr>\n",
       "    <tr>\n",
       "      <th>24602</th>\n",
       "      <td>24602</td>\n",
       "      <td>24603</td>\n",
       "      <td>Needhi Singh</td>\n",
       "      <td>2016</td>\n",
       "      <td>7</td>\n",
       "      <td>6.2</td>\n",
       "      <td>31.0</td>\n",
       "      <td>Drama</td>\n",
       "      <td>1</td>\n",
       "      <td>0</td>\n",
       "    </tr>\n",
       "    <tr>\n",
       "      <th>24611</th>\n",
       "      <td>24611</td>\n",
       "      <td>24612</td>\n",
       "      <td>Khido Khundi</td>\n",
       "      <td>2018</td>\n",
       "      <td>7</td>\n",
       "      <td>6.5</td>\n",
       "      <td>42.0</td>\n",
       "      <td>Drama</td>\n",
       "      <td>1</td>\n",
       "      <td>0</td>\n",
       "    </tr>\n",
       "    <tr>\n",
       "      <th>24627</th>\n",
       "      <td>24627</td>\n",
       "      <td>24628</td>\n",
       "      <td>Hajwala: The Missing Engine</td>\n",
       "      <td>2016</td>\n",
       "      <td>13</td>\n",
       "      <td>2.1</td>\n",
       "      <td>29.0</td>\n",
       "      <td>Drama</td>\n",
       "      <td>1</td>\n",
       "      <td>0</td>\n",
       "    </tr>\n",
       "    <tr>\n",
       "      <th>24654</th>\n",
       "      <td>24654</td>\n",
       "      <td>24655</td>\n",
       "      <td>S Storm</td>\n",
       "      <td>2016</td>\n",
       "      <td>13</td>\n",
       "      <td>5.2</td>\n",
       "      <td>29.0</td>\n",
       "      <td>Drama</td>\n",
       "      <td>1</td>\n",
       "      <td>0</td>\n",
       "    </tr>\n",
       "    <tr>\n",
       "      <th>24655</th>\n",
       "      <td>24655</td>\n",
       "      <td>24656</td>\n",
       "      <td>X: Past Is Present</td>\n",
       "      <td>2015</td>\n",
       "      <td>13</td>\n",
       "      <td>5.3</td>\n",
       "      <td>34.0</td>\n",
       "      <td>Drama</td>\n",
       "      <td>1</td>\n",
       "      <td>0</td>\n",
       "    </tr>\n",
       "  </tbody>\n",
       "</table>\n",
       "<p>3813 rows × 10 columns</p>\n",
       "</div>"
      ],
      "text/plain": [
       "       Unnamed: 0     ID                        Title  Year Age_Rating  IMDb  \\\n",
       "0               0      1        Terminator: Dark Fate  2019         18   6.2   \n",
       "1               1      2                   Gemini Man  2019         13   5.7   \n",
       "2               2      3            Rambo: Last Blood  2019         18   6.1   \n",
       "3               3      4                  The Courier  2019         18   4.9   \n",
       "4               4      5                        Crawl  2019         18   6.1   \n",
       "...           ...    ...                          ...   ...        ...   ...   \n",
       "24602       24602  24603                 Needhi Singh  2016          7   6.2   \n",
       "24611       24611  24612                 Khido Khundi  2018          7   6.5   \n",
       "24627       24627  24628  Hajwala: The Missing Engine  2016         13   2.1   \n",
       "24654       24654  24655                      S Storm  2016         13   5.2   \n",
       "24655       24655  24656           X: Past Is Present  2015         13   5.3   \n",
       "\n",
       "       Rotten_Tomatoes               Genre  Netflix  Prime_Video  \n",
       "0                 81.0  Action & Adventure        0            1  \n",
       "1                 74.0  Action & Adventure        0            1  \n",
       "2                 72.0  Action & Adventure        0            1  \n",
       "3                 50.0  Action & Adventure        0            1  \n",
       "4                 79.0  Action & Adventure        0            1  \n",
       "...                ...                 ...      ...          ...  \n",
       "24602             31.0               Drama        1            0  \n",
       "24611             42.0               Drama        1            0  \n",
       "24627             29.0               Drama        1            0  \n",
       "24654             29.0               Drama        1            0  \n",
       "24655             34.0               Drama        1            0  \n",
       "\n",
       "[3813 rows x 10 columns]"
      ]
     },
     "execution_count": 11,
     "metadata": {},
     "output_type": "execute_result"
    }
   ],
   "source": [
    "top5 = ['Drama', 'Action & Adventure', 'Comedy', 'Crime', 'Horror']\n",
    "df2 = df[df['Genre'].isin(top5)]\n",
    "df2"
   ]
  },
  {
   "cell_type": "markdown",
   "metadata": {},
   "source": [
    "**We can visualize the relationship between the top 5 movie genres and their average Rotten Tomatoes rating per year through a bar graph and scatterplot.**"
   ]
  },
  {
   "cell_type": "code",
   "execution_count": 12,
   "metadata": {},
   "outputs": [
    {
     "data": {
      "text/plain": [
       "<matplotlib.legend.Legend at 0x13a749960>"
      ]
     },
     "execution_count": 12,
     "metadata": {},
     "output_type": "execute_result"
    },
    {
     "data": {
      "image/png": "[encoded data removed]",
      "text/plain": [
       "<Figure size 1000x600 with 1 Axes>"
      ]
     },
     "metadata": {},
     "output_type": "display_data"
    }
   ],
   "source": [
    "my_palette = sns.color_palette(\"Spectral\", len(df2['Genre'].unique()))\n",
    "fig, ax = plt.subplots(figsize=(10, 6))\n",
    "\n",
    "sns.barplot(x='Year', y='Rotten_Tomatoes', hue='Genre', data=df2, errorbar=None, palette=my_palette, ax=ax)\n",
    "plt.xlabel('Year')\n",
    "plt.ylabel('Rotten Tomatoes Rating')\n",
    "plt.title('Average Rotten Tomatoes Rating by Genre and Year')\n",
    "plt.legend(title='Genre')"
   ]
  },
  {
   "cell_type": "code",
   "execution_count": 13,
   "metadata": {},
   "outputs": [
    {
     "data": {
      "text/plain": [
       "Text(0.5, 1.0, 'Average Rotten Tomatoes Score by Genre and Year')"
      ]
     },
     "execution_count": 13,
     "metadata": {},
     "output_type": "execute_result"
    },
    {
     "data": {
      "image/png": "[encoded data removed]",
      "text/plain": [
       "<Figure size 1000x800 with 1 Axes>"
      ]
     },
     "metadata": {},
     "output_type": "display_data"
    }
   ],
   "source": [
    "plt.figure(figsize=(10, 8))\n",
    "colors = ['blue', 'red', 'green', 'purple', 'orange']\n",
    "for i, genre in enumerate(df2['Genre'].unique()):\n",
    "    plt.scatter(df2[df2['Genre'] == genre]['Year'], df2[df2['Genre'] == genre]['Rotten_Tomatoes'], color=colors[i%6], label=genre)\n",
    "plt.legend()\n",
    "plt.title('Average Rotten Tomatoes Score by Genre and Year')"
   ]
  },
  {
   "cell_type": "markdown",
   "metadata": {},
   "source": [
    "**Summary Statistics:**"
   ]
  },
  {
   "cell_type": "code",
   "execution_count": 14,
   "metadata": {},
   "outputs": [
    {
     "name": "stdout",
     "output_type": "stream",
     "text": [
      "Mean Rotten Tomatoes rating by genre:\n",
      " Genre\n",
      "Action & Adventure    52.212632\n",
      "Comedy                49.147556\n",
      "Crime                 45.448276\n",
      "Drama                 52.085569\n",
      "Horror                37.675532\n",
      "Name: Rotten_Tomatoes, dtype: float64\n",
      "\n",
      "Standard Deviation of Rotten Tomatoes rating by genre:\n",
      " Genre\n",
      "Action & Adventure    15.359172\n",
      "Comedy                13.412405\n",
      "Crime                 12.968390\n",
      "Drama                 13.640893\n",
      "Horror                 8.724913\n",
      "Name: Rotten_Tomatoes, dtype: float64\n",
      "\n",
      "Median Rotten Tomatoes rating by genre:\n",
      " Genre\n",
      "Action & Adventure    51.0\n",
      "Comedy                47.0\n",
      "Crime                 42.0\n",
      "Drama                 51.0\n",
      "Horror                36.0\n",
      "Name: Rotten_Tomatoes, dtype: float64\n"
     ]
    }
   ],
   "source": [
    "RT_mean = df2.groupby('Genre')['Rotten_Tomatoes'].mean()\n",
    "RT_std = df2.groupby('Genre')['Rotten_Tomatoes'].std()\n",
    "RT_med = df2.groupby('Genre')['Rotten_Tomatoes'].median()\n",
    "print('Mean Rotten Tomatoes rating by genre:\\n', RT_mean)\n",
    "print('\\nStandard Deviation of Rotten Tomatoes rating by genre:\\n', RT_std)\n",
    "print('\\nMedian Rotten Tomatoes rating by genre:\\n', RT_med)"
   ]
  },
  {
   "cell_type": "code",
   "execution_count": 15,
   "metadata": {},
   "outputs": [
    {
     "data": {
      "text/plain": [
       "Year\n",
       "2011    48.063758\n",
       "2012    49.000000\n",
       "2013    48.330409\n",
       "2014    49.590909\n",
       "2015    48.660194\n",
       "2016    49.897092\n",
       "2017    50.917710\n",
       "2018    51.393004\n",
       "2019    52.373457\n",
       "2020    54.762626\n",
       "2021    59.500000\n",
       "Name: Rotten_Tomatoes, dtype: float64"
      ]
     },
     "execution_count": 15,
     "metadata": {},
     "output_type": "execute_result"
    }
   ],
   "source": [
    "mean2 = df2.groupby('Year')['Rotten_Tomatoes'].mean()\n",
    "mean2"
   ]
  },
  {
   "cell_type": "code",
   "execution_count": 16,
   "metadata": {},
   "outputs": [
    {
     "data": {
      "text/plain": [
       "Year\n",
       "2011    46.0\n",
       "2012    46.0\n",
       "2013    46.0\n",
       "2014    47.0\n",
       "2015    46.0\n",
       "2016    47.0\n",
       "2017    49.0\n",
       "2018    49.0\n",
       "2019    51.0\n",
       "2020    53.0\n",
       "2021    59.0\n",
       "Name: Rotten_Tomatoes, dtype: float64"
      ]
     },
     "execution_count": 16,
     "metadata": {},
     "output_type": "execute_result"
    }
   ],
   "source": [
    "med2 = df2.groupby('Year')['Rotten_Tomatoes'].median()\n",
    "med2"
   ]
  },
  {
   "cell_type": "code",
   "execution_count": 17,
   "metadata": {},
   "outputs": [
    {
     "data": {
      "text/plain": [
       "Year\n",
       "2011    16.036132\n",
       "2012    14.564883\n",
       "2013    14.299033\n",
       "2014    13.914525\n",
       "2015    13.605533\n",
       "2016    14.700696\n",
       "2017    13.786273\n",
       "2018    13.581972\n",
       "2019    13.992458\n",
       "2020    12.523246\n",
       "2021    11.357817\n",
       "Name: Rotten_Tomatoes, dtype: float64"
      ]
     },
     "execution_count": 17,
     "metadata": {},
     "output_type": "execute_result"
    }
   ],
   "source": [
    "std2 = df2.groupby('Year')['Rotten_Tomatoes'].std()\n",
    "std2"
   ]
  },
  {
   "cell_type": "markdown",
   "metadata": {},
   "source": [
    "From the visualizations and summary statistics we can see that out of the top 5 genres in the dataset, Action & Adventure and Drama seem to have consistently higher average Rotten Tomatoes scores (as well as standard deviation and median) while genres like horror are rated consistently lower. The median Rotten Tomatoes score by year from 2011 to 2021 has also seen a steady increase from around 46 to 59. Based on this, it is possible that there is an association between genre of the program, year of release and the Rotten Tomatoes score"
   ]
  },
  {
   "cell_type": "markdown",
   "metadata": {},
   "source": [
    "## 3. Inference"
   ]
  },
  {
   "cell_type": "markdown",
   "metadata": {},
   "source": [
    "*In this section we will be exploring the following research question regarding linear regression:*\n",
    "\n",
    "**Is there an association between Action and Adventure titles and higher rated Rotten Tomato scores from the population of popular movies and tv shows on Netflix and Amazon Prime Video?**"
   ]
  },
  {
   "cell_type": "code",
   "execution_count": 18,
   "metadata": {},
   "outputs": [],
   "source": [
    "high = df[df[\"Rotten_Tomatoes\"] > 75]\n",
    "low = df[df[\"Rotten_Tomatoes\"] < 75]"
   ]
  },
  {
   "cell_type": "code",
   "execution_count": 19,
   "metadata": {},
   "outputs": [
    {
     "data": {
      "image/png": "[encoded data removed]",
      "text/plain": [
       "<Figure size 900x600 with 1 Axes>"
      ]
     },
     "metadata": {},
     "output_type": "display_data"
    }
   ],
   "source": [
    "# visualizing the top 25% of Rotten Tomatoes scores \n",
    "fig, ax = plt.subplots(figsize=(9,6))\n",
    "sns.scatterplot(x='Genre', y='Rotten_Tomatoes', data=high, color='teal')\n",
    "plt.xlabel('Genre of Movie')\n",
    "plt.ylabel('Rotten Tomato Rating above 75%')\n",
    "plt.title(\"Movies Based on Genre with High Ratings\")\n",
    "plt.show()"
   ]
  },
  {
   "cell_type": "code",
   "execution_count": 20,
   "metadata": {},
   "outputs": [
    {
     "name": "stdout",
     "output_type": "stream",
     "text": [
      "Unnamed: 0         13828.534737\n",
      "ID                 13829.534737\n",
      "Year                2015.688421\n",
      "IMDb                   5.562105\n",
      "Rotten_Tomatoes       52.212632\n",
      "Netflix                0.386316\n",
      "Prime_Video            0.613684\n",
      "dtype: float64\n",
      "Shape: (950, 10)\n"
     ]
    },
    {
     "name": "stderr",
     "output_type": "stream",
     "text": [
      "/var/folders/j9/15ld47k16mz97j49j3_d0tgw0000gn/T/ipykernel_90833/3852053552.py:2: FutureWarning: The default value of numeric_only in DataFrame.mean is deprecated. In a future version, it will default to False. In addition, specifying 'numeric_only=None' is deprecated. Select only valid columns or specify the value of numeric_only to silence this warning.\n",
      "  print(dfaa.mean())\n"
     ]
    }
   ],
   "source": [
    "dfaa = df[df[\"Genre\"] == \"Action & Adventure\"]\n",
    "print(dfaa.mean())\n",
    "print(\"Shape:\", dfaa.shape)"
   ]
  },
  {
   "cell_type": "code",
   "execution_count": 21,
   "metadata": {},
   "outputs": [
    {
     "data": {
      "text/plain": [
       "2822     52.0\n",
       "7517     40.0\n",
       "22805    47.0\n",
       "13       84.0\n",
       "21789    82.0\n",
       "         ... \n",
       "22900    41.0\n",
       "10660    26.0\n",
       "21261    81.0\n",
       "23010    55.0\n",
       "18756    44.0\n",
       "Name: Rotten_Tomatoes, Length: 100, dtype: float64"
      ]
     },
     "execution_count": 21,
     "metadata": {},
     "output_type": "execute_result"
    }
   ],
   "source": [
    "dfaa_sample = dfaa.sample(100)\n",
    "dfaa_sample = dfaa_sample['Rotten_Tomatoes']\n",
    "dfaa_sample"
   ]
  },
  {
   "cell_type": "code",
   "execution_count": 22,
   "metadata": {},
   "outputs": [
    {
     "data": {
      "text/plain": [
       "21930    56.0\n",
       "12209    37.0\n",
       "7812     35.0\n",
       "15320    38.0\n",
       "16272    55.0\n",
       "         ... \n",
       "8358     36.0\n",
       "12668    29.0\n",
       "18515    31.0\n",
       "22534    72.0\n",
       "23629    48.0\n",
       "Name: Rotten_Tomatoes, Length: 100, dtype: float64"
      ]
     },
     "execution_count": 22,
     "metadata": {},
     "output_type": "execute_result"
    }
   ],
   "source": [
    "df_other = df[df[\"Genre\"] != \"Action & Adventure\"]\n",
    "dfo_sample = df_other.sample(100)\n",
    "dfo_sample = dfo_sample['Rotten_Tomatoes']\n",
    "dfo_sample"
   ]
  },
  {
   "cell_type": "markdown",
   "metadata": {},
   "source": [
    "### Hypothesis Testing:\n",
    "\n",
    "$H_0$: There is no association between Action and Adventure titles and higher rated Rotten Tomato scores from the population of popular movies and tv shows on Netflix and Amazon Prime Video.\n",
    "\n",
    "$H_a$: There is a positive association between Action and Adventure titles and higher rated Rotten Tomato scores from the population of popular movies and tv shows on Netflix and Amazon Prime Video."
   ]
  },
  {
   "cell_type": "markdown",
   "metadata": {},
   "source": [
    "### Conditions  & Confidence Intervals:\n",
    "\n",
    "Condition 1: The obervations are independent. Assume independence since sample of popular movies on these platforms. n < 10% of all the movies and tv shows shown on Netflix and Amazon Prime\n",
    "\n",
    "Condition 2: Normality. The distribution of Rotten Tomato ratings for Action and Adventure are not normal but n = 950 and n > 30, so this condition is met. "
   ]
  },
  {
   "cell_type": "code",
   "execution_count": 23,
   "metadata": {},
   "outputs": [
    {
     "data": {
      "text/plain": [
       "1.959963984540054"
      ]
     },
     "execution_count": 23,
     "metadata": {},
     "output_type": "execute_result"
    }
   ],
   "source": [
    "alpha = 0.05\n",
    "crt_val = norm.ppf(1-alpha/2)\n",
    "crt_val"
   ]
  },
  {
   "cell_type": "markdown",
   "metadata": {},
   "source": [
    "We could also use a z-score table. We wanted to calculate a 95% confidence interval and z-score formula is (wanted - mean)/standard deviation. This would also give the z-score of ~1.95. "
   ]
  },
  {
   "cell_type": "code",
   "execution_count": 24,
   "metadata": {},
   "outputs": [
    {
     "ename": "NameError",
     "evalue": "name 'np' is not defined",
     "output_type": "error",
     "traceback": [
      "\u001b[0;31m---------------------------------------------------------------------------\u001b[0m",
      "\u001b[0;31mNameError\u001b[0m                                 Traceback (most recent call last)",
      "Cell \u001b[0;32mIn[24], line 6\u001b[0m\n\u001b[1;32m      3\u001b[0m sample_std_rating \u001b[38;5;241m=\u001b[39m dfaa_sample\u001b[38;5;241m.\u001b[39mstd()\n\u001b[1;32m      4\u001b[0m n_rating \u001b[38;5;241m=\u001b[39m dfaa_sample\u001b[38;5;241m.\u001b[39mshape[\u001b[38;5;241m0\u001b[39m]\n\u001b[0;32m----> 6\u001b[0m low_bound \u001b[38;5;241m=\u001b[39m sample_mean_rating \u001b[38;5;241m-\u001b[39m crt_val\u001b[38;5;241m*\u001b[39m(sample_std_rating\u001b[38;5;241m/\u001b[39m\u001b[43mnp\u001b[49m\u001b[38;5;241m.\u001b[39msqrt(n_rating))\n\u001b[1;32m      7\u001b[0m up_bound \u001b[38;5;241m=\u001b[39m sample_mean_rating \u001b[38;5;241m+\u001b[39m crt_val\u001b[38;5;241m*\u001b[39m(sample_std_rating\u001b[38;5;241m/\u001b[39mnp\u001b[38;5;241m.\u001b[39msqrt(n_rating))\n\u001b[1;32m      8\u001b[0m \u001b[38;5;28mprint\u001b[39m(low_bound, \u001b[38;5;124m\"\u001b[39m\u001b[38;5;124m,\u001b[39m\u001b[38;5;124m\"\u001b[39m, up_bound)\n",
      "\u001b[0;31mNameError\u001b[0m: name 'np' is not defined"
     ]
    }
   ],
   "source": [
    "# Confidence Interval - Action & Adventure\n",
    "sample_mean_rating = dfaa_sample.mean()\n",
    "sample_std_rating = dfaa_sample.std()\n",
    "n_rating = dfaa_sample.shape[0]\n",
    "\n",
    "low_bound = sample_mean_rating - crt_val*(sample_std_rating/np.sqrt(n_rating))\n",
    "up_bound = sample_mean_rating + crt_val*(sample_std_rating/np.sqrt(n_rating))\n",
    "print(low_bound, \",\", up_bound)"
   ]
  },
  {
   "cell_type": "code",
   "execution_count": null,
   "metadata": {},
   "outputs": [],
   "source": [
    "# Confidence Interval - Other Genres (conditions are same as other, have been checked)\n",
    "sample_mean_rating2 = dfo_sample.mean()\n",
    "sample_std_rating2 = dfo_sample.std()\n",
    "n_rating2 = dfo_sample.shape[0]\n",
    "\n",
    "low_bound2 = sample_mean_rating2 - crt_val*(sample_std_rating2/np.sqrt(n_rating2))\n",
    "up_bound2 = sample_mean_rating2 + crt_val*(sample_std_rating2/np.sqrt(n_rating2))\n",
    "print(low_bound2, \",\", up_bound2)"
   ]
  },
  {
   "cell_type": "markdown",
   "metadata": {},
   "source": [
    "*Interpretations:*\n",
    "\n",
    "We are 95% confident that the Rotten Tomato score for Action and Adventure titles would be within the internal (47.5542-53.5457).\n",
    "\n",
    "We are 95% confident that the Rotten Tomato score for titles with genres other than Action and Adventure would be within the internal (46.1327-51.9273)."
   ]
  },
  {
   "cell_type": "markdown",
   "metadata": {},
   "source": [
    "This helps us with the research question because we are able to see where most of the Action and Adventure movies are rated on the Rotten Tomato scale. From previous sections we learned that Action and Adventure looked like it was among the higher rated movies and tv shows, if not the highest. This inclined us to look further into that and compare confidence intervals from that genre versus others. \n",
    "\n",
    "Based on the two confidence intervals and the fact that they do not overlap, we can conclude that the average Rotten Tomatoes scores of Action and Adventure titles are significantly higher than those of non-Action and Adventure titles. This supports the alternative hypothesis that there is an association between Action and Adventure titles and higher rated Rotten Tomato scores. "
   ]
  },
  {
   "cell_type": "markdown",
   "metadata": {},
   "source": [
    "## 4. Linear Regression"
   ]
  },
  {
   "cell_type": "markdown",
   "metadata": {},
   "source": [
    "*In this section we will be exploring the following research question regarding linear regression:*\n",
    "\n",
    "**Is there a linear relationship between the Rotten Tomatoes rating of a movie and the year it was released, the age rating, and whether the movie is on Netflix or Amazon Prime Video?**\n"
   ]
  },
  {
   "cell_type": "code",
   "execution_count": null,
   "metadata": {},
   "outputs": [],
   "source": [
    "dflin = df[[\"Year\", \"Age_Rating\", \"Netflix\", \"Prime_Video\"]]\n",
    "dflin"
   ]
  },
  {
   "cell_type": "code",
   "execution_count": null,
   "metadata": {
    "scrolled": false
   },
   "outputs": [],
   "source": [
    "sns.pairplot(dflin)\n",
    "plt.show()"
   ]
  },
  {
   "cell_type": "code",
   "execution_count": null,
   "metadata": {},
   "outputs": [],
   "source": [
    "dflin.corr()"
   ]
  },
  {
   "cell_type": "code",
   "execution_count": null,
   "metadata": {},
   "outputs": [],
   "source": [
    "dflin.describe()"
   ]
  },
  {
   "cell_type": "code",
   "execution_count": null,
   "metadata": {},
   "outputs": [],
   "source": [
    "results = smf.ols('Rotten_Tomatoes ~  Year + Age_Rating + Netflix + Prime_Video', data=df).fit()\n",
    "results.summary()"
   ]
  },
  {
   "cell_type": "code",
   "execution_count": null,
   "metadata": {},
   "outputs": [],
   "source": [
    "predicted = (-70.8586) - (4.1233*0) + (0.3267*18) - (1.9304*0) - (6.0555*0) + (0.0785*2012) - (29.7940*0) - (41.0646*1) \n",
    "predicted    "
   ]
  },
  {
   "cell_type": "code",
   "execution_count": null,
   "metadata": {},
   "outputs": [],
   "source": [
    "movie = df[df.Title == \"Terminator: Dark Fate\"]\n",
    "movie\n",
    "actual = 81.0 \n",
    "residual = actual - predicted \n",
    "print(\"Residual:\", residual)"
   ]
  },
  {
   "cell_type": "markdown",
   "metadata": {},
   "source": [
    "**Checking Linear Regression Conditions:**\n",
    "\n",
    "**Condition 1:**"
   ]
  },
  {
   "cell_type": "code",
   "execution_count": null,
   "metadata": {},
   "outputs": [],
   "source": [
    "sns.regplot(x=results.fittedvalues, y=results.resid, ci=None)\n",
    "plt.ylabel('Residual')\n",
    "plt.xlabel('Fitted Value')\n",
    "plt.show()"
   ]
  },
  {
   "cell_type": "markdown",
   "metadata": {},
   "source": [
    "The points in the plot are not evenly distributed above and below the line, therefore this condition is not met."
   ]
  },
  {
   "cell_type": "markdown",
   "metadata": {},
   "source": [
    "**Condition 2:** The y-axis spread is not even so this condition is also not met.\n",
    "\n",
    "**Condition 3: Normality of Residuals**"
   ]
  },
  {
   "cell_type": "code",
   "execution_count": null,
   "metadata": {},
   "outputs": [],
   "source": [
    "plt.hist(results.resid)\n",
    "plt.xlabel('Residuals')\n",
    "plt.show()"
   ]
  },
  {
   "cell_type": "markdown",
   "metadata": {},
   "source": [
    "This graph has a slight right-tail which means the data is skewed towards one side. However, it is mostly normal so this condition is slightly met. The mean also seems like it is around 0. "
   ]
  },
  {
   "cell_type": "markdown",
   "metadata": {},
   "source": [
    "**Condition 4:**\n",
    "\n",
    "1) This dataset is randomly sampled among popular movies and TV shows in both Netflix and Amazon Prime video, according to Kaggle\n",
    "\n",
    "2) Sample size n=4339<10% of all movies and TV shows on Amazon Prime Video and Netflix."
   ]
  },
  {
   "cell_type": "markdown",
   "metadata": {},
   "source": [
    "The percent of variability in the response variable is 0.16. This is a low variability. There are also no slopes in this model that have sufficient evidence to suggest they are non-zero. This helps us answer our research question because we can now see where the ratings are between with a confidence interval in the Action and Adventure genre.\n",
    "\n",
    "This linear regression analysis helped us answer the research question because we were able to see that there is no stuck linear relationship between the year, rating, and which streaming platform it is on whether that be Amazon Prime Video or Netflix. "
   ]
  },
  {
   "cell_type": "markdown",
   "metadata": {},
   "source": [
    "## 5. Logistic Regression"
   ]
  },
  {
   "cell_type": "markdown",
   "metadata": {},
   "source": [
    "*In this section we will be exploring the following research question regarding linear regression:*\n",
    "\n",
    "**Can we predict whether a movie is available on Netflix based on its age rating, genre, Rotten Tomatoes score, and IMDb rating?**"
   ]
  },
  {
   "cell_type": "code",
   "execution_count": null,
   "metadata": {},
   "outputs": [],
   "source": [
    "# i. split your dataset into a training dataset and testing dataset\n",
    "from sklearn.model_selection import train_test_split\n",
    "\n",
    "df_train, df_test = train_test_split(df, test_size=0.2, random_state=428)\n",
    "df_train"
   ]
  },
  {
   "cell_type": "code",
   "execution_count": null,
   "metadata": {},
   "outputs": [],
   "source": [
    "df_train.shape[0]/df.shape[0]"
   ]
  },
  {
   "cell_type": "code",
   "execution_count": null,
   "metadata": {
    "scrolled": true
   },
   "outputs": [],
   "source": [
    "# ii. perform a backwards elimination algorithm (using AIC or BIC) to help you find a \n",
    "# parsimonious logistic regression mode\n",
    "\n",
    "full_mod = smf.logit('Netflix ~ Age_Rating + Year + Rotten_Tomatoes + IMDb', data=df_train).fit()\n",
    "print('BIC for full model:', full_mod.bic)"
   ]
  },
  {
   "cell_type": "code",
   "execution_count": null,
   "metadata": {
    "scrolled": true
   },
   "outputs": [],
   "source": [
    "# exclude 'Year' for backwards elimination\n",
    "new_mod = smf.logit('Netflix ~ Age_Rating + Rotten_Tomatoes + IMDb', data=df_train).fit()\n",
    "print('BIC for new model without Year:', new_mod.bic)"
   ]
  },
  {
   "cell_type": "markdown",
   "metadata": {},
   "source": [
    "**The BIC output for the new model, excluding the Year variable, was higher than the BIC of our original full model. Therefore, the original full one is the most parsimonious model that adequately explains the relationship between the explanatory variables and the response variable.**"
   ]
  },
  {
   "cell_type": "code",
   "execution_count": null,
   "metadata": {},
   "outputs": [],
   "source": [
    "# iv. show the summary output for your final logistic regression model\n",
    "full_mod.summary()"
   ]
  },
  {
   "cell_type": "markdown",
   "metadata": {},
   "source": [
    "**logistic regression equation:**\n",
    "\n",
    "log(odds of Netflix) = -545.7544 - 0.2509(16+ Rating) - 0.1428(18+ Rating) + 0.3226(7+ Rating) + 0.4190(Rating All) + 0.2687(Year) + 0.0631(Rotten Tomatoes) + 0.0321(IMDb)"
   ]
  },
  {
   "cell_type": "markdown",
   "metadata": {},
   "source": [
    "**In the final model, the coefficients for Year, Rotten_Tomatoes, Rating[T.7], Rating[T.all], and Intercept all have p-values less than 0.05. This indicates that they are statistically significant and have sufficient evidence to suggest they are non-zero in the population model.**"
   ]
  },
  {
   "cell_type": "code",
   "execution_count": null,
   "metadata": {},
   "outputs": [],
   "source": [
    "phat_test = full_mod.predict(exog=df_test)\n",
    "df_test['phat_test'] = phat_test"
   ]
  },
  {
   "cell_type": "code",
   "execution_count": null,
   "metadata": {},
   "outputs": [],
   "source": [
    "# vii. Use your logistic regression model to calculate the ROC and AUC of your test dataset\n",
    "from sklearn.metrics import roc_curve, roc_auc_score\n",
    "\n",
    "fprs, tprs, thresholds = roc_curve(y_true=df_test['Netflix'], y_score=df_test['phat_test'])\n",
    "auc = roc_auc_score(y_true=df_test['Netflix'], y_score=df_test['phat_test'])\n",
    "auc"
   ]
  },
  {
   "cell_type": "code",
   "execution_count": null,
   "metadata": {},
   "outputs": [],
   "source": [
    "def plot_roc(fpr, tpr, auc, lw=2):\n",
    "    plt.plot(fpr, tpr, color='darkorange', lw=lw,\n",
    "    label='ROC curve (area = '+str(round(auc,3))+')')\n",
    "    plt.plot([0, 1], [0, 1], color='navy', lw=lw, linestyle='--' )\n",
    "    plt.xlabel('False Positive Rate')\n",
    "    plt.ylabel('True Positive Rate')\n",
    "    plt.title('ROC Curve')\n",
    "    plt.legend(loc=\"lower right\")\n",
    "    plt.show()\n",
    "    \n",
    "plot_roc(fprs, tprs, auc)"
   ]
  },
  {
   "cell_type": "code",
   "execution_count": null,
   "metadata": {},
   "outputs": [],
   "source": [
    "# viii. Use your ROC to pick a good predictive probability threshold\n",
    "import numpy as np\n",
    "\n",
    "j = tprs - fprs\n",
    "best_threshold = thresholds[np.argmax(j)]\n",
    "best_threshold"
   ]
  },
  {
   "cell_type": "markdown",
   "metadata": {},
   "source": [
    "**We chose to use Youden's J statistic / index to find the predictive probability threshold which maximizes the difference between the TPR and FPR. In terms of our research goals, it makes sense to use 0.2 to prioritize correctly predicting positive cases or movies that are on Netflix.**"
   ]
  },
  {
   "cell_type": "code",
   "execution_count": null,
   "metadata": {},
   "outputs": [],
   "source": [
    "# ix. Use this predictive probability threshold to classify your test data\n",
    "from sklearn.metrics import confusion_matrix\n",
    "\n",
    "def tpr_fpr_thresh(y, pred_prob, thresh):\n",
    "    yhat = 1*(pred_prob >= thresh)\n",
    "    tn, fp, fn, tp = confusion_matrix(y_true=y, y_pred=yhat).ravel()\n",
    "    tpr = tp / (fn + tp)\n",
    "    fpr = fp / (fp + tn)\n",
    "    return pd.DataFrame({'threshold':[thresh],\n",
    "    'tpr':[tpr],\n",
    "    'fpr':[fpr]})\n",
    "\n",
    "tpr_fpr_thresh(df_test['Netflix'], df_test['phat_test'], 0.2)"
   ]
  },
  {
   "cell_type": "markdown",
   "metadata": {},
   "source": [
    "**False positive rate: 0.4954**\n",
    "\n",
    "**True positive rate: 0.8803**\n",
    "\n",
    "The logistic regression analysis conducted helps us answer the research question of whether we can predict whether a movie is available on Netflix or Amazon Prime Video based on its age rating, year of release, Rotten Tomatoes score, and IMDb rating. The pseudo R-squared value of 0.1837 shows that the final logistic regression model had a statistically significant relationship with whether a movie is available on Netflix or not. This means that the model explains about 18% of the variability in the response variable.\n",
    "\n",
    "We also found that the age rating, year of release, Rotten Tomatoes score, and IMDb rating were significant predictors of whether a movie is available on Netflix or not. Specifically, movies with higher age ratings and higher Rotten Tomatoes and IMDb scores were more likely to be available on Netflix.\n",
    "\n",
    "By calculating the ROC curve and AUC for the test dataset, the AUC of 0.7724 indicated that the model has some ability to distinguish between positive and negative cases, although there is still room for improvement. Choosing an appropriate threshold of 0.2, we prioritized correctly predicting positive cases (i.e., movies that are on Netflix). In terms of the research question, the results of this analysis showed that we can use the model to identify movies that are likely to be available on Netflix within a reasonable degree of accuracy. Such analysis provides insights into the factors that influence whether a movie is available on Netflix and could be useful for movie producers and distributors who want to target their content to a specific streaming platform."
   ]
  },
  {
   "cell_type": "markdown",
   "metadata": {},
   "source": [
    "## Any other type of analysis/question you want to explore with this dataset.\n",
    "\n",
    "<u>Why?</u>: Sometimes undergraduate students will put the research projects that they did for their classes on their resumes when applying for graduate schools, internships, and jobs. If you're interested in showcasing cool analyses to write on your resume, this section could help with that. **(This section is not worth any points though).**"
   ]
  },
  {
   "cell_type": "code",
   "execution_count": null,
   "metadata": {},
   "outputs": [],
   "source": []
  },
  {
   "cell_type": "code",
   "execution_count": null,
   "metadata": {},
   "outputs": [],
   "source": []
  },
  {
   "cell_type": "code",
   "execution_count": null,
   "metadata": {},
   "outputs": [],
   "source": []
  },
  {
   "cell_type": "code",
   "execution_count": null,
   "metadata": {},
   "outputs": [],
   "source": []
  },
  {
   "cell_type": "code",
   "execution_count": null,
   "metadata": {},
   "outputs": [],
   "source": []
  },
  {
   "cell_type": "code",
   "execution_count": null,
   "metadata": {},
   "outputs": [],
   "source": []
  },
  {
   "cell_type": "code",
   "execution_count": null,
   "metadata": {},
   "outputs": [],
   "source": []
  },
  {
   "cell_type": "code",
   "execution_count": null,
   "metadata": {},
   "outputs": [],
   "source": []
  },
  {
   "cell_type": "code",
   "execution_count": null,
   "metadata": {},
   "outputs": [],
   "source": []
  },
  {
   "cell_type": "markdown",
   "metadata": {},
   "source": [
    "## 6. Conclusion"
   ]
  },
  {
   "cell_type": "markdown",
   "metadata": {},
   "source": [
    "### Summary\n",
    "In each part of this project we were able to conduct meaningful analysis on popular movies and tv shows on Netflix and Prime Video from 2011 to 2021 through the four research questions. For our first research question, we were able to find that there may be an association between the genre of a movie, year of release and the Rotten Tomatoes score, with Action & Adventure and Drama consistently having higher scores and the median score by year increasing steadily from 2011 to 2021. For our second research question regarding inference, we analyzed the concentration of Action and Adventure movies' Rotten Tomatoes scores, and the confidence intervals provided more information about the possible association between genre and Rotten Tomatoes score. In the linear regression research question, we gained insight into the lack of a linear relationship between the year, rating, and streaming platform of movies. Finally, with logistic regression, we saw that age rating, year of release, Rotten Tomatoes score, and IMDb rating were significant predictors of Netflix availability. The ROC curve and AUC with a threshold of 0.2 suggested that the model can identify movies available on Netflix with a reasonable degree of accuracy, providing insights for content targeting by producers and distributors.\n",
    "\n",
    "Overall, exploring research questions for a dataset like this could help provide valuable insights to critics, reviewers, filmmakers, and studios on trends and patterns in the movie industry and factors contributing to the success of a movie or TV show.\n",
    "\n",
    "### Future Work\n",
    "If our group or others were to conduct further work based on these analyses, some research questions that could be explored would be:\n",
    "1. How do other factors such as budget, production company, and lead actors/actresses impact the Rotten Tomatoes score of a movie?\n",
    "2. How do the trends and patterns identified in these analyses change over time, and what implications do these changes have for the movie industry as a whole?"
   ]
  }
 ],
 "metadata": {
  "kernelspec": {
   "display_name": "Python 3.10.6 64-bit",
   "language": "python",
   "name": "python3"
  },
  "language_info": {
   "codemirror_mode": {
    "name": "ipython",
    "version": 3
   },
   "file_extension": ".py",
   "mimetype": "text/x-python",
   "name": "python",
   "nbconvert_exporter": "python",
   "pygments_lexer": "ipython3",
   "version": "3.10.6"
  },
  "vscode": {
   "interpreter": {
    "hash": "aee8b7b246df8f9039afb4144a1f6fd8d2ca17a180786b69acc140d282b71a49"
   }
  }
 },
 "nbformat": 4,
 "nbformat_minor": 4
}
